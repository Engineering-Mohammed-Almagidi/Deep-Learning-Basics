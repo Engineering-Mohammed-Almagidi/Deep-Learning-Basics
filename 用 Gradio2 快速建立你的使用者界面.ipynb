{
 "cells": [
  {
   "cell_type": "markdown",
   "metadata": {},
   "source": [
    "請先在自己電腦終端機中, 安裝 Gradio\n",
    "\n",
    "`pip install gradio`\n",
    "\n",
    "如果用 Colab, 可以現在就下達\n",
    "\n",
    "`!pip install gradio`"
   ]
  },
  {
   "cell_type": "code",
   "execution_count": 1,
   "metadata": {},
   "outputs": [
    {
     "name": "stdout",
     "output_type": "stream",
     "text": [
      "Running locally at: http://127.0.0.1:7860/\n",
      "To create a public link, set `share=True` in `launch()`.\n",
      "Interface loading below...\n"
     ]
    },
    {
     "data": {
      "text/html": [
       "\n",
       "        <iframe\n",
       "            width=\"900\"\n",
       "            height=\"500\"\n",
       "            src=\"http://127.0.0.1:7860/\"\n",
       "            frameborder=\"0\"\n",
       "            allowfullscreen\n",
       "        ></iframe>\n",
       "        "
      ],
      "text/plain": [
       "<IPython.lib.display.IFrame at 0x7fb4cac30b38>"
      ]
     },
     "metadata": {},
     "output_type": "display_data"
    },
    {
     "data": {
      "text/plain": [
       "(<Flask 'gradio.networking'>, 'http://127.0.0.1:7860/', None)"
      ]
     },
     "execution_count": 1,
     "metadata": {},
     "output_type": "execute_result"
    }
   ],
   "source": [
    "import gradio as gr\n",
    "\n",
    "gr.Interface.load(\"huggingface/ckiplab/gpt2-base-chinese\").launch()"
   ]
  },
  {
   "cell_type": "markdown",
   "metadata": {},
   "source": [
    "#### 【執行了什麼】\n",
    "Gradio 是展示你機器學習模型 (事實上任何你想展示的函式) , 的互動界面工具。這個模型你可以自己寫, 也可以直接呼叫像 HuggingFace 的 trasnformers。\n",
    "\n",
    "HuggingFace 的 `transformers` 套件:\n",
    "\n",
    "https://github.com/huggingface/transformers\n",
    "\n",
    "提供很多, 包括使用者提供預訓練權重:\n",
    "\n",
    "https://huggingface.co/models\n",
    "\n",
    "我們要使用可以搜尋一下, 例如找到中研院 CKIPlab 的中文版 GPT-2:\n",
    "\n",
    "`ckiplab/gpt2-base-chinese`\n",
    "\n",
    "只要前面加入 `huggingface`\n",
    "\n",
    "`huggingface/ckiplab/gpt2-base-chinese`\n",
    "\n",
    "就可以用了! 因為 Gradio 預設是呼叫HuggingFace 雲端 API, 所以連 transfomers 也不用裝! \n",
    "\n",
    "自然你可以自己裝 `transformers` 套件, 在本地端執行。 "
   ]
  },
  {
   "cell_type": "markdown",
   "metadata": {},
   "source": [
    "#### 【Web App】\n",
    "\n",
    "事實上 Gradio 做出的是一個 web app。我們會看到一個像是 \"http://127.0.0.1:7860/\" 的網址, 你可以用自己電腦的瀏覽器打開。\n",
    "\n",
    "更炫的是, 你可以在 `launch` 裡設定 `share=True`, 只要你的程式還在執行, 別人也可以用瀏覽器看到了!"
   ]
  },
  {
   "cell_type": "code",
   "execution_count": null,
   "metadata": {},
   "outputs": [],
   "source": []
  }
 ],
 "metadata": {
  "kernelspec": {
   "display_name": "Python 3",
   "language": "python",
   "name": "python3"
  },
  "language_info": {
   "codemirror_mode": {
    "name": "ipython",
    "version": 3
   },
   "file_extension": ".py",
   "mimetype": "text/x-python",
   "name": "python",
   "nbconvert_exporter": "python",
   "pygments_lexer": "ipython3",
   "version": "3.7.3"
  }
 },
 "nbformat": 4,
 "nbformat_minor": 4
}
