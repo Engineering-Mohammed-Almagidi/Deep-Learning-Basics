{
  "nbformat": 4,
  "nbformat_minor": 0,
  "metadata": {
    "colab": {
      "name": "colab99 在 matplotlib 中使用中文.ipynb",
      "provenance": [],
      "collapsed_sections": [],
      "authorship_tag": "ABX9TyPBqarKqzwCUdw2o1EbMDxY",
      "include_colab_link": true
    },
    "kernelspec": {
      "name": "python3",
      "display_name": "Python 3"
    },
    "language_info": {
      "name": "python"
    }
  },
  "cells": [
    {
      "cell_type": "markdown",
      "metadata": {
        "id": "view-in-github",
        "colab_type": "text"
      },
      "source": [
        "<a href=\"https://colab.research.google.com/github/yenlung/Deep-Learning-Basics/blob/master/colab99_%E5%9C%A8_matplotlib_%E4%B8%AD%E4%BD%BF%E7%94%A8%E4%B8%AD%E6%96%87.ipynb\" target=\"_parent\"><img src=\"https://colab.research.google.com/assets/colab-badge.svg\" alt=\"Open In Colab\"/></a>"
      ]
    },
    {
      "cell_type": "markdown",
      "metadata": {
        "id": "u6-klQTSFeRD"
      },
      "source": [
        "Colab 預設環境中並沒有中文字型, 所以我們需要上傳一個中文字型。然後把這字型加入 `matplotlib` 字型家族中。"
      ]
    },
    {
      "cell_type": "code",
      "metadata": {
        "id": "aN6p2jCrF5iz"
      },
      "source": [
        "%matplotlib inline\n",
        "\n",
        "import numpy as np\n",
        "import pandas as pd\n",
        "import matplotlib.pyplot as plt"
      ],
      "execution_count": 1,
      "outputs": []
    },
    {
      "cell_type": "markdown",
      "metadata": {
        "id": "PNKbX3UwGAta"
      },
      "source": [
        "為了字型事宜, 我們再加入直接呼叫 `matplotlib` 的選項。"
      ]
    },
    {
      "cell_type": "code",
      "metadata": {
        "id": "IBslZ16sGTg6"
      },
      "source": [
        "import matplotlib as mpl\n",
        "import matplotlib.font_manager as fm"
      ],
      "execution_count": 2,
      "outputs": []
    },
    {
      "cell_type": "markdown",
      "metadata": {
        "id": "mkAI1VJlGmIY"
      },
      "source": [
        "### 1. 下載一個中文字型到 Colab\n",
        "\n",
        "我們這裡以翰字鑄造的[台北黑體](https://sites.google.com/view/jtfoundry/)為例, 這裡選了 regular 的版本。"
      ]
    },
    {
      "cell_type": "code",
      "metadata": {
        "colab": {
          "base_uri": "https://localhost:8080/"
        },
        "id": "NnNt-QfkHDQQ",
        "outputId": "d9a24e65-2ee1-44cc-c41c-bff94fbf274f"
      },
      "source": [
        "!wget -O TaipeiSansTCBeta-Regular.ttf https://drive.google.com/uc?id=1eGAsTN1HBpJAkeVM57_C7ccp7hbgSz3_&export=download"
      ],
      "execution_count": 3,
      "outputs": [
        {
          "output_type": "stream",
          "text": [
            "--2021-07-13 23:34:21--  https://drive.google.com/uc?id=1eGAsTN1HBpJAkeVM57_C7ccp7hbgSz3_\n",
            "Resolving drive.google.com (drive.google.com)... 142.250.125.139, 142.250.125.100, 142.250.125.113, ...\n",
            "Connecting to drive.google.com (drive.google.com)|142.250.125.139|:443... connected.\n",
            "HTTP request sent, awaiting response... 302 Moved Temporarily\n",
            "Location: https://doc-0k-9o-docs.googleusercontent.com/docs/securesc/ha0ro937gcuc7l7deffksulhg5h7mbp1/rf1m2e56nin79b5j5ebk3vb3anl01tdu/1626219225000/02847987870453524430/*/1eGAsTN1HBpJAkeVM57_C7ccp7hbgSz3_ [following]\n",
            "Warning: wildcards not supported in HTTP.\n",
            "--2021-07-13 23:34:22--  https://doc-0k-9o-docs.googleusercontent.com/docs/securesc/ha0ro937gcuc7l7deffksulhg5h7mbp1/rf1m2e56nin79b5j5ebk3vb3anl01tdu/1626219225000/02847987870453524430/*/1eGAsTN1HBpJAkeVM57_C7ccp7hbgSz3_\n",
            "Resolving doc-0k-9o-docs.googleusercontent.com (doc-0k-9o-docs.googleusercontent.com)... 209.85.147.132, 2607:f8b0:4001:c20::84\n",
            "Connecting to doc-0k-9o-docs.googleusercontent.com (doc-0k-9o-docs.googleusercontent.com)|209.85.147.132|:443... connected.\n",
            "HTTP request sent, awaiting response... 200 OK\n",
            "Length: unspecified [application/x-font-ttf]\n",
            "Saving to: ‘TaipeiSansTCBeta-Regular.ttf’\n",
            "\n",
            "TaipeiSansTCBeta-Re     [ <=>                ]  19.70M  --.-KB/s    in 0.1s    \n",
            "\n",
            "2021-07-13 23:34:23 (164 MB/s) - ‘TaipeiSansTCBeta-Regular.ttf’ saved [20659344]\n",
            "\n"
          ],
          "name": "stdout"
        }
      ]
    },
    {
      "cell_type": "markdown",
      "metadata": {
        "id": "EmM-HslwHgCV"
      },
      "source": [
        "加入 `matplotlib` 字體。"
      ]
    },
    {
      "cell_type": "code",
      "metadata": {
        "id": "AubXlzF_HpPO"
      },
      "source": [
        "fm.fontManager.addfont('TaipeiSansTCBeta-Regular.ttf')\n",
        "mpl.rc('font', family='Taipei Sans TC Beta')"
      ],
      "execution_count": 4,
      "outputs": []
    },
    {
      "cell_type": "markdown",
      "metadata": {
        "id": "9i9FAEV8H0Ci"
      },
      "source": [
        "我們怎麼知道字型正確的名稱呢? 可以看一下目前 `matplotlib` 的字型名稱, 也順便確定我們裝好了。\n",
        "\n",
        "```python\n",
        "[f.name for f in fm.fontManager.ttflist]\n",
        "```"
      ]
    },
    {
      "cell_type": "markdown",
      "metadata": {
        "id": "e_dRDG_WIvo2"
      },
      "source": [
        "### 2. 畫個圖試試看"
      ]
    },
    {
      "cell_type": "code",
      "metadata": {
        "id": "hbmA8m5_Jfvx"
      },
      "source": [
        "x = np.linspace(-2*np.pi, 2* np.pi, 200)\n",
        "y = np.sin(x)"
      ],
      "execution_count": 5,
      "outputs": []
    },
    {
      "cell_type": "code",
      "metadata": {
        "colab": {
          "base_uri": "https://localhost:8080/",
          "height": 301
        },
        "id": "mLTj_J85KA_7",
        "outputId": "f5dbd895-17b2-484d-d34e-6f403c6448f8"
      },
      "source": [
        "plt.title('可愛的 $\\sin$ 我要看到中文')\n",
        "plt.plot(x,y)"
      ],
      "execution_count": 6,
      "outputs": [
        {
          "output_type": "execute_result",
          "data": {
            "text/plain": [
              "[<matplotlib.lines.Line2D at 0x7f7b08be9490>]"
            ]
          },
          "metadata": {
            "tags": []
          },
          "execution_count": 6
        },
        {
          "output_type": "display_data",
          "data": {
            "image/png": "[encoded data removed]",
            "text/plain": [
              "<Figure size 432x288 with 1 Axes>"
            ]
          },
          "metadata": {
            "tags": [],
            "needs_background": "light"
          }
        }
      ]
    },
    {
      "cell_type": "markdown",
      "metadata": {
        "id": "pIRUrybdN0_X"
      },
      "source": [
        "### 3. `seabron` 也要顯示中文"
      ]
    },
    {
      "cell_type": "code",
      "metadata": {
        "id": "aKouCJqMKKuY"
      },
      "source": [
        "import seaborn as sns"
      ],
      "execution_count": 7,
      "outputs": []
    },
    {
      "cell_type": "code",
      "metadata": {
        "id": "oBv-cGx8NFza"
      },
      "source": [
        "sns.set(font=\"Taipei Sans TC Beta\")"
      ],
      "execution_count": 8,
      "outputs": []
    },
    {
      "cell_type": "code",
      "metadata": {
        "colab": {
          "base_uri": "https://localhost:8080/",
          "height": 305
        },
        "id": "DfzcViQPNHXx",
        "outputId": "29971edb-df86-463e-84f4-db2c5834461e"
      },
      "source": [
        "plt.title('可愛的 $\\sin$ 我要看到中文')\n",
        "plt.plot(x,y)"
      ],
      "execution_count": 9,
      "outputs": [
        {
          "output_type": "execute_result",
          "data": {
            "text/plain": [
              "[<matplotlib.lines.Line2D at 0x7f7afaca2b90>]"
            ]
          },
          "metadata": {
            "tags": []
          },
          "execution_count": 9
        },
        {
          "output_type": "display_data",
          "data": {
            "image/png": "[encoded data removed]",
            "text/plain": [
              "<Figure size 432x288 with 1 Axes>"
            ]
          },
          "metadata": {
            "tags": []
          }
        }
      ]
    }
  ]
}