{
  "nbformat": 4,
  "nbformat_minor": 0,
  "metadata": {
    "colab": {
      "name": "colab04d 找到文字的 embeddings.ipynb",
      "provenance": [],
      "authorship_tag": "ABX9TyPl7cg4TKnqya4dCiNnMSpP",
      "include_colab_link": true
    },
    "kernelspec": {
      "name": "python3",
      "display_name": "Python 3"
    },
    "language_info": {
      "name": "python"
    },
    "accelerator": "GPU",
    "widgets": {
      "application/vnd.jupyter.widget-state+json": {
        "401eb335cb5142b6baef50fe19dce573": {
          "model_module": "@jupyter-widgets/controls",
          "model_name": "HBoxModel",
          "model_module_version": "1.5.0",
          "state": {
            "_dom_classes": [],
            "_model_module": "@jupyter-widgets/controls",
            "_model_module_version": "1.5.0",
            "_model_name": "HBoxModel",
            "_view_count": null,
            "_view_module": "@jupyter-widgets/controls",
            "_view_module_version": "1.5.0",
            "_view_name": "HBoxView",
            "box_style": "",
            "children": [
              "IPY_MODEL_de4b8a2c1b82487488cff2ccf4b00745",
              "IPY_MODEL_d085df42738745e883ff4e00a9f813e5",
              "IPY_MODEL_99db179bb08f462eab7da1ceee238729"
            ],
            "layout": "IPY_MODEL_5a0926f9bdc8459e89fce02677f1d7a6"
          }
        },
        "de4b8a2c1b82487488cff2ccf4b00745": {
          "model_module": "@jupyter-widgets/controls",
          "model_name": "HTMLModel",
          "model_module_version": "1.5.0",
          "state": {
            "_dom_classes": [],
            "_model_module": "@jupyter-widgets/controls",
            "_model_module_version": "1.5.0",
            "_model_name": "HTMLModel",
            "_view_count": null,
            "_view_module": "@jupyter-widgets/controls",
            "_view_module_version": "1.5.0",
            "_view_name": "HTMLView",
            "description": "",
            "description_tooltip": null,
            "layout": "IPY_MODEL_9ceda403277e4a0082797a8d28723367",
            "placeholder": "​",
            "style": "IPY_MODEL_a00fb226f66f47b1ac573748cc575d01",
            "value": "Downloading: 100%"
          }
        },
        "d085df42738745e883ff4e00a9f813e5": {
          "model_module": "@jupyter-widgets/controls",
          "model_name": "FloatProgressModel",
          "model_module_version": "1.5.0",
          "state": {
            "_dom_classes": [],
            "_model_module": "@jupyter-widgets/controls",
            "_model_module_version": "1.5.0",
            "_model_name": "FloatProgressModel",
            "_view_count": null,
            "_view_module": "@jupyter-widgets/controls",
            "_view_module_version": "1.5.0",
            "_view_name": "ProgressView",
            "bar_style": "success",
            "description": "",
            "description_tooltip": null,
            "layout": "IPY_MODEL_bd18b281cc3348da91a00ab18657f7e0",
            "max": 109540,
            "min": 0,
            "orientation": "horizontal",
            "style": "IPY_MODEL_914e895dc8774b308be2825666a39cbe",
            "value": 109540
          }
        },
        "99db179bb08f462eab7da1ceee238729": {
          "model_module": "@jupyter-widgets/controls",
          "model_name": "HTMLModel",
          "model_module_version": "1.5.0",
          "state": {
            "_dom_classes": [],
            "_model_module": "@jupyter-widgets/controls",
            "_model_module_version": "1.5.0",
            "_model_name": "HTMLModel",
            "_view_count": null,
            "_view_module": "@jupyter-widgets/controls",
            "_view_module_version": "1.5.0",
            "_view_name": "HTMLView",
            "description": "",
            "description_tooltip": null,
            "layout": "IPY_MODEL_43a92c4f97bd474ebee6b0c568453b09",
            "placeholder": "​",
            "style": "IPY_MODEL_e3663755895e4c4d919182edcc2f7236",
            "value": " 107k/107k [00:00&lt;00:00, 1.33MB/s]"
          }
        },
        "5a0926f9bdc8459e89fce02677f1d7a6": {
          "model_module": "@jupyter-widgets/base",
          "model_name": "LayoutModel",
          "model_module_version": "1.2.0",
          "state": {
            "_model_module": "@jupyter-widgets/base",
            "_model_module_version": "1.2.0",
            "_model_name": "LayoutModel",
            "_view_count": null,
            "_view_module": "@jupyter-widgets/base",
            "_view_module_version": "1.2.0",
            "_view_name": "LayoutView",
            "align_content": null,
            "align_items": null,
            "align_self": null,
            "border": null,
            "bottom": null,
            "display": null,
            "flex": null,
            "flex_flow": null,
            "grid_area": null,
            "grid_auto_columns": null,
            "grid_auto_flow": null,
            "grid_auto_rows": null,
            "grid_column": null,
            "grid_gap": null,
            "grid_row": null,
            "grid_template_areas": null,
            "grid_template_columns": null,
            "grid_template_rows": null,
            "height": null,
            "justify_content": null,
            "justify_items": null,
            "left": null,
            "margin": null,
            "max_height": null,
            "max_width": null,
            "min_height": null,
            "min_width": null,
            "object_fit": null,
            "object_position": null,
            "order": null,
            "overflow": null,
            "overflow_x": null,
            "overflow_y": null,
            "padding": null,
            "right": null,
            "top": null,
            "visibility": null,
            "width": null
          }
        },
        "9ceda403277e4a0082797a8d28723367": {
          "model_module": "@jupyter-widgets/base",
          "model_name": "LayoutModel",
          "model_module_version": "1.2.0",
          "state": {
            "_model_module": "@jupyter-widgets/base",
            "_model_module_version": "1.2.0",
            "_model_name": "LayoutModel",
            "_view_count": null,
            "_view_module": "@jupyter-widgets/base",
            "_view_module_version": "1.2.0",
            "_view_name": "LayoutView",
            "align_content": null,
            "align_items": null,
            "align_self": null,
            "border": null,
            "bottom": null,
            "display": null,
            "flex": null,
            "flex_flow": null,
            "grid_area": null,
            "grid_auto_columns": null,
            "grid_auto_flow": null,
            "grid_auto_rows": null,
            "grid_column": null,
            "grid_gap": null,
            "grid_row": null,
            "grid_template_areas": null,
            "grid_template_columns": null,
            "grid_template_rows": null,
            "height": null,
            "justify_content": null,
            "justify_items": null,
            "left": null,
            "margin": null,
            "max_height": null,
            "max_width": null,
            "min_height": null,
            "min_width": null,
            "object_fit": null,
            "object_position": null,
            "order": null,
            "overflow": null,
            "overflow_x": null,
            "overflow_y": null,
            "padding": null,
            "right": null,
            "top": null,
            "visibility": null,
            "width": null
          }
        },
        "a00fb226f66f47b1ac573748cc575d01": {
          "model_module": "@jupyter-widgets/controls",
          "model_name": "DescriptionStyleModel",
          "model_module_version": "1.5.0",
          "state": {
            "_model_module": "@jupyter-widgets/controls",
            "_model_module_version": "1.5.0",
            "_model_name": "DescriptionStyleModel",
            "_view_count": null,
            "_view_module": "@jupyter-widgets/base",
            "_view_module_version": "1.2.0",
            "_view_name": "StyleView",
            "description_width": ""
          }
        },
        "bd18b281cc3348da91a00ab18657f7e0": {
          "model_module": "@jupyter-widgets/base",
          "model_name": "LayoutModel",
          "model_module_version": "1.2.0",
          "state": {
            "_model_module": "@jupyter-widgets/base",
            "_model_module_version": "1.2.0",
            "_model_name": "LayoutModel",
            "_view_count": null,
            "_view_module": "@jupyter-widgets/base",
            "_view_module_version": "1.2.0",
            "_view_name": "LayoutView",
            "align_content": null,
            "align_items": null,
            "align_self": null,
            "border": null,
            "bottom": null,
            "display": null,
            "flex": null,
            "flex_flow": null,
            "grid_area": null,
            "grid_auto_columns": null,
            "grid_auto_flow": null,
            "grid_auto_rows": null,
            "grid_column": null,
            "grid_gap": null,
            "grid_row": null,
            "grid_template_areas": null,
            "grid_template_columns": null,
            "grid_template_rows": null,
            "height": null,
            "justify_content": null,
            "justify_items": null,
            "left": null,
            "margin": null,
            "max_height": null,
            "max_width": null,
            "min_height": null,
            "min_width": null,
            "object_fit": null,
            "object_position": null,
            "order": null,
            "overflow": null,
            "overflow_x": null,
            "overflow_y": null,
            "padding": null,
            "right": null,
            "top": null,
            "visibility": null,
            "width": null
          }
        },
        "914e895dc8774b308be2825666a39cbe": {
          "model_module": "@jupyter-widgets/controls",
          "model_name": "ProgressStyleModel",
          "model_module_version": "1.5.0",
          "state": {
            "_model_module": "@jupyter-widgets/controls",
            "_model_module_version": "1.5.0",
            "_model_name": "ProgressStyleModel",
            "_view_count": null,
            "_view_module": "@jupyter-widgets/base",
            "_view_module_version": "1.2.0",
            "_view_name": "StyleView",
            "bar_color": null,
            "description_width": ""
          }
        },
        "43a92c4f97bd474ebee6b0c568453b09": {
          "model_module": "@jupyter-widgets/base",
          "model_name": "LayoutModel",
          "model_module_version": "1.2.0",
          "state": {
            "_model_module": "@jupyter-widgets/base",
            "_model_module_version": "1.2.0",
            "_model_name": "LayoutModel",
            "_view_count": null,
            "_view_module": "@jupyter-widgets/base",
            "_view_module_version": "1.2.0",
            "_view_name": "LayoutView",
            "align_content": null,
            "align_items": null,
            "align_self": null,
            "border": null,
            "bottom": null,
            "display": null,
            "flex": null,
            "flex_flow": null,
            "grid_area": null,
            "grid_auto_columns": null,
            "grid_auto_flow": null,
            "grid_auto_rows": null,
            "grid_column": null,
            "grid_gap": null,
            "grid_row": null,
            "grid_template_areas": null,
            "grid_template_columns": null,
            "grid_template_rows": null,
            "height": null,
            "justify_content": null,
            "justify_items": null,
            "left": null,
            "margin": null,
            "max_height": null,
            "max_width": null,
            "min_height": null,
            "min_width": null,
            "object_fit": null,
            "object_position": null,
            "order": null,
            "overflow": null,
            "overflow_x": null,
            "overflow_y": null,
            "padding": null,
            "right": null,
            "top": null,
            "visibility": null,
            "width": null
          }
        },
        "e3663755895e4c4d919182edcc2f7236": {
          "model_module": "@jupyter-widgets/controls",
          "model_name": "DescriptionStyleModel",
          "model_module_version": "1.5.0",
          "state": {
            "_model_module": "@jupyter-widgets/controls",
            "_model_module_version": "1.5.0",
            "_model_name": "DescriptionStyleModel",
            "_view_count": null,
            "_view_module": "@jupyter-widgets/base",
            "_view_module_version": "1.2.0",
            "_view_name": "StyleView",
            "description_width": ""
          }
        },
        "4756b76df1bf44459440eed5e2514b3f": {
          "model_module": "@jupyter-widgets/controls",
          "model_name": "HBoxModel",
          "model_module_version": "1.5.0",
          "state": {
            "_dom_classes": [],
            "_model_module": "@jupyter-widgets/controls",
            "_model_module_version": "1.5.0",
            "_model_name": "HBoxModel",
            "_view_count": null,
            "_view_module": "@jupyter-widgets/controls",
            "_view_module_version": "1.5.0",
            "_view_name": "HBoxView",
            "box_style": "",
            "children": [
              "IPY_MODEL_28ee00a4485b43c5ad447591fbddb087",
              "IPY_MODEL_e8337a003cfe41dca9884b4b7e54256c",
              "IPY_MODEL_1fe284b37dc84e5ea9520648c10e5218"
            ],
            "layout": "IPY_MODEL_94655991b74c4a9497ab8ff2ef3260cf"
          }
        },
        "28ee00a4485b43c5ad447591fbddb087": {
          "model_module": "@jupyter-widgets/controls",
          "model_name": "HTMLModel",
          "model_module_version": "1.5.0",
          "state": {
            "_dom_classes": [],
            "_model_module": "@jupyter-widgets/controls",
            "_model_module_version": "1.5.0",
            "_model_name": "HTMLModel",
            "_view_count": null,
            "_view_module": "@jupyter-widgets/controls",
            "_view_module_version": "1.5.0",
            "_view_name": "HTMLView",
            "description": "",
            "description_tooltip": null,
            "layout": "IPY_MODEL_c5ca6756e7c14908b40e518e56e43ee1",
            "placeholder": "​",
            "style": "IPY_MODEL_afeae272cf1f4883b66e95398821b919",
            "value": "Downloading: 100%"
          }
        },
        "e8337a003cfe41dca9884b4b7e54256c": {
          "model_module": "@jupyter-widgets/controls",
          "model_name": "FloatProgressModel",
          "model_module_version": "1.5.0",
          "state": {
            "_dom_classes": [],
            "_model_module": "@jupyter-widgets/controls",
            "_model_module_version": "1.5.0",
            "_model_name": "FloatProgressModel",
            "_view_count": null,
            "_view_module": "@jupyter-widgets/controls",
            "_view_module_version": "1.5.0",
            "_view_name": "ProgressView",
            "bar_style": "success",
            "description": "",
            "description_tooltip": null,
            "layout": "IPY_MODEL_035d78801594437e9efc0f91b83455b6",
            "max": 29,
            "min": 0,
            "orientation": "horizontal",
            "style": "IPY_MODEL_e238da1cafe44ce1b25373e44ab94bd3",
            "value": 29
          }
        },
        "1fe284b37dc84e5ea9520648c10e5218": {
          "model_module": "@jupyter-widgets/controls",
          "model_name": "HTMLModel",
          "model_module_version": "1.5.0",
          "state": {
            "_dom_classes": [],
            "_model_module": "@jupyter-widgets/controls",
            "_model_module_version": "1.5.0",
            "_model_name": "HTMLModel",
            "_view_count": null,
            "_view_module": "@jupyter-widgets/controls",
            "_view_module_version": "1.5.0",
            "_view_name": "HTMLView",
            "description": "",
            "description_tooltip": null,
            "layout": "IPY_MODEL_8c48c7b14d584db09bc99cc2fd362853",
            "placeholder": "​",
            "style": "IPY_MODEL_2e8a9f0bb5ba47ee949d1c9b540ea9e8",
            "value": " 29.0/29.0 [00:00&lt;00:00, 914B/s]"
          }
        },
        "94655991b74c4a9497ab8ff2ef3260cf": {
          "model_module": "@jupyter-widgets/base",
          "model_name": "LayoutModel",
          "model_module_version": "1.2.0",
          "state": {
            "_model_module": "@jupyter-widgets/base",
            "_model_module_version": "1.2.0",
            "_model_name": "LayoutModel",
            "_view_count": null,
            "_view_module": "@jupyter-widgets/base",
            "_view_module_version": "1.2.0",
            "_view_name": "LayoutView",
            "align_content": null,
            "align_items": null,
            "align_self": null,
            "border": null,
            "bottom": null,
            "display": null,
            "flex": null,
            "flex_flow": null,
            "grid_area": null,
            "grid_auto_columns": null,
            "grid_auto_flow": null,
            "grid_auto_rows": null,
            "grid_column": null,
            "grid_gap": null,
            "grid_row": null,
            "grid_template_areas": null,
            "grid_template_columns": null,
            "grid_template_rows": null,
            "height": null,
            "justify_content": null,
            "justify_items": null,
            "left": null,
            "margin": null,
            "max_height": null,
            "max_width": null,
            "min_height": null,
            "min_width": null,
            "object_fit": null,
            "object_position": null,
            "order": null,
            "overflow": null,
            "overflow_x": null,
            "overflow_y": null,
            "padding": null,
            "right": null,
            "top": null,
            "visibility": null,
            "width": null
          }
        },
        "c5ca6756e7c14908b40e518e56e43ee1": {
          "model_module": "@jupyter-widgets/base",
          "model_name": "LayoutModel",
          "model_module_version": "1.2.0",
          "state": {
            "_model_module": "@jupyter-widgets/base",
            "_model_module_version": "1.2.0",
            "_model_name": "LayoutModel",
            "_view_count": null,
            "_view_module": "@jupyter-widgets/base",
            "_view_module_version": "1.2.0",
            "_view_name": "LayoutView",
            "align_content": null,
            "align_items": null,
            "align_self": null,
            "border": null,
            "bottom": null,
            "display": null,
            "flex": null,
            "flex_flow": null,
            "grid_area": null,
            "grid_auto_columns": null,
            "grid_auto_flow": null,
            "grid_auto_rows": null,
            "grid_column": null,
            "grid_gap": null,
            "grid_row": null,
            "grid_template_areas": null,
            "grid_template_columns": null,
            "grid_template_rows": null,
            "height": null,
            "justify_content": null,
            "justify_items": null,
            "left": null,
            "margin": null,
            "max_height": null,
            "max_width": null,
            "min_height": null,
            "min_width": null,
            "object_fit": null,
            "object_position": null,
            "order": null,
            "overflow": null,
            "overflow_x": null,
            "overflow_y": null,
            "padding": null,
            "right": null,
            "top": null,
            "visibility": null,
            "width": null
          }
        },
        "afeae272cf1f4883b66e95398821b919": {
          "model_module": "@jupyter-widgets/controls",
          "model_name": "DescriptionStyleModel",
          "model_module_version": "1.5.0",
          "state": {
            "_model_module": "@jupyter-widgets/controls",
            "_model_module_version": "1.5.0",
            "_model_name": "DescriptionStyleModel",
            "_view_count": null,
            "_view_module": "@jupyter-widgets/base",
            "_view_module_version": "1.2.0",
            "_view_name": "StyleView",
            "description_width": ""
          }
        },
        "035d78801594437e9efc0f91b83455b6": {
          "model_module": "@jupyter-widgets/base",
          "model_name": "LayoutModel",
          "model_module_version": "1.2.0",
          "state": {
            "_model_module": "@jupyter-widgets/base",
            "_model_module_version": "1.2.0",
            "_model_name": "LayoutModel",
            "_view_count": null,
            "_view_module": "@jupyter-widgets/base",
            "_view_module_version": "1.2.0",
            "_view_name": "LayoutView",
            "align_content": null,
            "align_items": null,
            "align_self": null,
            "border": null,
            "bottom": null,
            "display": null,
            "flex": null,
            "flex_flow": null,
            "grid_area": null,
            "grid_auto_columns": null,
            "grid_auto_flow": null,
            "grid_auto_rows": null,
            "grid_column": null,
            "grid_gap": null,
            "grid_row": null,
            "grid_template_areas": null,
            "grid_template_columns": null,
            "grid_template_rows": null,
            "height": null,
            "justify_content": null,
            "justify_items": null,
            "left": null,
            "margin": null,
            "max_height": null,
            "max_width": null,
            "min_height": null,
            "min_width": null,
            "object_fit": null,
            "object_position": null,
            "order": null,
            "overflow": null,
            "overflow_x": null,
            "overflow_y": null,
            "padding": null,
            "right": null,
            "top": null,
            "visibility": null,
            "width": null
          }
        },
        "e238da1cafe44ce1b25373e44ab94bd3": {
          "model_module": "@jupyter-widgets/controls",
          "model_name": "ProgressStyleModel",
          "model_module_version": "1.5.0",
          "state": {
            "_model_module": "@jupyter-widgets/controls",
            "_model_module_version": "1.5.0",
            "_model_name": "ProgressStyleModel",
            "_view_count": null,
            "_view_module": "@jupyter-widgets/base",
            "_view_module_version": "1.2.0",
            "_view_name": "StyleView",
            "bar_color": null,
            "description_width": ""
          }
        },
        "8c48c7b14d584db09bc99cc2fd362853": {
          "model_module": "@jupyter-widgets/base",
          "model_name": "LayoutModel",
          "model_module_version": "1.2.0",
          "state": {
            "_model_module": "@jupyter-widgets/base",
            "_model_module_version": "1.2.0",
            "_model_name": "LayoutModel",
            "_view_count": null,
            "_view_module": "@jupyter-widgets/base",
            "_view_module_version": "1.2.0",
            "_view_name": "LayoutView",
            "align_content": null,
            "align_items": null,
            "align_self": null,
            "border": null,
            "bottom": null,
            "display": null,
            "flex": null,
            "flex_flow": null,
            "grid_area": null,
            "grid_auto_columns": null,
            "grid_auto_flow": null,
            "grid_auto_rows": null,
            "grid_column": null,
            "grid_gap": null,
            "grid_row": null,
            "grid_template_areas": null,
            "grid_template_columns": null,
            "grid_template_rows": null,
            "height": null,
            "justify_content": null,
            "justify_items": null,
            "left": null,
            "margin": null,
            "max_height": null,
            "max_width": null,
            "min_height": null,
            "min_width": null,
            "object_fit": null,
            "object_position": null,
            "order": null,
            "overflow": null,
            "overflow_x": null,
            "overflow_y": null,
            "padding": null,
            "right": null,
            "top": null,
            "visibility": null,
            "width": null
          }
        },
        "2e8a9f0bb5ba47ee949d1c9b540ea9e8": {
          "model_module": "@jupyter-widgets/controls",
          "model_name": "DescriptionStyleModel",
          "model_module_version": "1.5.0",
          "state": {
            "_model_module": "@jupyter-widgets/controls",
            "_model_module_version": "1.5.0",
            "_model_name": "DescriptionStyleModel",
            "_view_count": null,
            "_view_module": "@jupyter-widgets/base",
            "_view_module_version": "1.2.0",
            "_view_name": "StyleView",
            "description_width": ""
          }
        },
        "8d3a2c59821f49899a70e881807e6120": {
          "model_module": "@jupyter-widgets/controls",
          "model_name": "HBoxModel",
          "model_module_version": "1.5.0",
          "state": {
            "_dom_classes": [],
            "_model_module": "@jupyter-widgets/controls",
            "_model_module_version": "1.5.0",
            "_model_name": "HBoxModel",
            "_view_count": null,
            "_view_module": "@jupyter-widgets/controls",
            "_view_module_version": "1.5.0",
            "_view_name": "HBoxView",
            "box_style": "",
            "children": [
              "IPY_MODEL_144042e322b3471da31fe64e9de587b0",
              "IPY_MODEL_d7771c0e3da2490abab42c11f27621d1",
              "IPY_MODEL_90abf0eaf8db44f29ce3356d79d6acbb"
            ],
            "layout": "IPY_MODEL_8b32273b05434bd89b174ad5553afd86"
          }
        },
        "144042e322b3471da31fe64e9de587b0": {
          "model_module": "@jupyter-widgets/controls",
          "model_name": "HTMLModel",
          "model_module_version": "1.5.0",
          "state": {
            "_dom_classes": [],
            "_model_module": "@jupyter-widgets/controls",
            "_model_module_version": "1.5.0",
            "_model_name": "HTMLModel",
            "_view_count": null,
            "_view_module": "@jupyter-widgets/controls",
            "_view_module_version": "1.5.0",
            "_view_name": "HTMLView",
            "description": "",
            "description_tooltip": null,
            "layout": "IPY_MODEL_63773c6056c04ec6bcddba2afa424f71",
            "placeholder": "​",
            "style": "IPY_MODEL_fe36feb35ede46f686ac7e803eff582f",
            "value": "Downloading: 100%"
          }
        },
        "d7771c0e3da2490abab42c11f27621d1": {
          "model_module": "@jupyter-widgets/controls",
          "model_name": "FloatProgressModel",
          "model_module_version": "1.5.0",
          "state": {
            "_dom_classes": [],
            "_model_module": "@jupyter-widgets/controls",
            "_model_module_version": "1.5.0",
            "_model_name": "FloatProgressModel",
            "_view_count": null,
            "_view_module": "@jupyter-widgets/controls",
            "_view_module_version": "1.5.0",
            "_view_name": "ProgressView",
            "bar_style": "success",
            "description": "",
            "description_tooltip": null,
            "layout": "IPY_MODEL_67f34d46def548f7b700df9c499fc629",
            "max": 624,
            "min": 0,
            "orientation": "horizontal",
            "style": "IPY_MODEL_887d8d9918fa491c8913e06a2f5f8969",
            "value": 624
          }
        },
        "90abf0eaf8db44f29ce3356d79d6acbb": {
          "model_module": "@jupyter-widgets/controls",
          "model_name": "HTMLModel",
          "model_module_version": "1.5.0",
          "state": {
            "_dom_classes": [],
            "_model_module": "@jupyter-widgets/controls",
            "_model_module_version": "1.5.0",
            "_model_name": "HTMLModel",
            "_view_count": null,
            "_view_module": "@jupyter-widgets/controls",
            "_view_module_version": "1.5.0",
            "_view_name": "HTMLView",
            "description": "",
            "description_tooltip": null,
            "layout": "IPY_MODEL_32b7ca1cd5e546659d94c66585847f53",
            "placeholder": "​",
            "style": "IPY_MODEL_f44bea0b185343d0853bdb13e3463a81",
            "value": " 624/624 [00:00&lt;00:00, 20.5kB/s]"
          }
        },
        "8b32273b05434bd89b174ad5553afd86": {
          "model_module": "@jupyter-widgets/base",
          "model_name": "LayoutModel",
          "model_module_version": "1.2.0",
          "state": {
            "_model_module": "@jupyter-widgets/base",
            "_model_module_version": "1.2.0",
            "_model_name": "LayoutModel",
            "_view_count": null,
            "_view_module": "@jupyter-widgets/base",
            "_view_module_version": "1.2.0",
            "_view_name": "LayoutView",
            "align_content": null,
            "align_items": null,
            "align_self": null,
            "border": null,
            "bottom": null,
            "display": null,
            "flex": null,
            "flex_flow": null,
            "grid_area": null,
            "grid_auto_columns": null,
            "grid_auto_flow": null,
            "grid_auto_rows": null,
            "grid_column": null,
            "grid_gap": null,
            "grid_row": null,
            "grid_template_areas": null,
            "grid_template_columns": null,
            "grid_template_rows": null,
            "height": null,
            "justify_content": null,
            "justify_items": null,
            "left": null,
            "margin": null,
            "max_height": null,
            "max_width": null,
            "min_height": null,
            "min_width": null,
            "object_fit": null,
            "object_position": null,
            "order": null,
            "overflow": null,
            "overflow_x": null,
            "overflow_y": null,
            "padding": null,
            "right": null,
            "top": null,
            "visibility": null,
            "width": null
          }
        },
        "63773c6056c04ec6bcddba2afa424f71": {
          "model_module": "@jupyter-widgets/base",
          "model_name": "LayoutModel",
          "model_module_version": "1.2.0",
          "state": {
            "_model_module": "@jupyter-widgets/base",
            "_model_module_version": "1.2.0",
            "_model_name": "LayoutModel",
            "_view_count": null,
            "_view_module": "@jupyter-widgets/base",
            "_view_module_version": "1.2.0",
            "_view_name": "LayoutView",
            "align_content": null,
            "align_items": null,
            "align_self": null,
            "border": null,
            "bottom": null,
            "display": null,
            "flex": null,
            "flex_flow": null,
            "grid_area": null,
            "grid_auto_columns": null,
            "grid_auto_flow": null,
            "grid_auto_rows": null,
            "grid_column": null,
            "grid_gap": null,
            "grid_row": null,
            "grid_template_areas": null,
            "grid_template_columns": null,
            "grid_template_rows": null,
            "height": null,
            "justify_content": null,
            "justify_items": null,
            "left": null,
            "margin": null,
            "max_height": null,
            "max_width": null,
            "min_height": null,
            "min_width": null,
            "object_fit": null,
            "object_position": null,
            "order": null,
            "overflow": null,
            "overflow_x": null,
            "overflow_y": null,
            "padding": null,
            "right": null,
            "top": null,
            "visibility": null,
            "width": null
          }
        },
        "fe36feb35ede46f686ac7e803eff582f": {
          "model_module": "@jupyter-widgets/controls",
          "model_name": "DescriptionStyleModel",
          "model_module_version": "1.5.0",
          "state": {
            "_model_module": "@jupyter-widgets/controls",
            "_model_module_version": "1.5.0",
            "_model_name": "DescriptionStyleModel",
            "_view_count": null,
            "_view_module": "@jupyter-widgets/base",
            "_view_module_version": "1.2.0",
            "_view_name": "StyleView",
            "description_width": ""
          }
        },
        "67f34d46def548f7b700df9c499fc629": {
          "model_module": "@jupyter-widgets/base",
          "model_name": "LayoutModel",
          "model_module_version": "1.2.0",
          "state": {
            "_model_module": "@jupyter-widgets/base",
            "_model_module_version": "1.2.0",
            "_model_name": "LayoutModel",
            "_view_count": null,
            "_view_module": "@jupyter-widgets/base",
            "_view_module_version": "1.2.0",
            "_view_name": "LayoutView",
            "align_content": null,
            "align_items": null,
            "align_self": null,
            "border": null,
            "bottom": null,
            "display": null,
            "flex": null,
            "flex_flow": null,
            "grid_area": null,
            "grid_auto_columns": null,
            "grid_auto_flow": null,
            "grid_auto_rows": null,
            "grid_column": null,
            "grid_gap": null,
            "grid_row": null,
            "grid_template_areas": null,
            "grid_template_columns": null,
            "grid_template_rows": null,
            "height": null,
            "justify_content": null,
            "justify_items": null,
            "left": null,
            "margin": null,
            "max_height": null,
            "max_width": null,
            "min_height": null,
            "min_width": null,
            "object_fit": null,
            "object_position": null,
            "order": null,
            "overflow": null,
            "overflow_x": null,
            "overflow_y": null,
            "padding": null,
            "right": null,
            "top": null,
            "visibility": null,
            "width": null
          }
        },
        "887d8d9918fa491c8913e06a2f5f8969": {
          "model_module": "@jupyter-widgets/controls",
          "model_name": "ProgressStyleModel",
          "model_module_version": "1.5.0",
          "state": {
            "_model_module": "@jupyter-widgets/controls",
            "_model_module_version": "1.5.0",
            "_model_name": "ProgressStyleModel",
            "_view_count": null,
            "_view_module": "@jupyter-widgets/base",
            "_view_module_version": "1.2.0",
            "_view_name": "StyleView",
            "bar_color": null,
            "description_width": ""
          }
        },
        "32b7ca1cd5e546659d94c66585847f53": {
          "model_module": "@jupyter-widgets/base",
          "model_name": "LayoutModel",
          "model_module_version": "1.2.0",
          "state": {
            "_model_module": "@jupyter-widgets/base",
            "_model_module_version": "1.2.0",
            "_model_name": "LayoutModel",
            "_view_count": null,
            "_view_module": "@jupyter-widgets/base",
            "_view_module_version": "1.2.0",
            "_view_name": "LayoutView",
            "align_content": null,
            "align_items": null,
            "align_self": null,
            "border": null,
            "bottom": null,
            "display": null,
            "flex": null,
            "flex_flow": null,
            "grid_area": null,
            "grid_auto_columns": null,
            "grid_auto_flow": null,
            "grid_auto_rows": null,
            "grid_column": null,
            "grid_gap": null,
            "grid_row": null,
            "grid_template_areas": null,
            "grid_template_columns": null,
            "grid_template_rows": null,
            "height": null,
            "justify_content": null,
            "justify_items": null,
            "left": null,
            "margin": null,
            "max_height": null,
            "max_width": null,
            "min_height": null,
            "min_width": null,
            "object_fit": null,
            "object_position": null,
            "order": null,
            "overflow": null,
            "overflow_x": null,
            "overflow_y": null,
            "padding": null,
            "right": null,
            "top": null,
            "visibility": null,
            "width": null
          }
        },
        "f44bea0b185343d0853bdb13e3463a81": {
          "model_module": "@jupyter-widgets/controls",
          "model_name": "DescriptionStyleModel",
          "model_module_version": "1.5.0",
          "state": {
            "_model_module": "@jupyter-widgets/controls",
            "_model_module_version": "1.5.0",
            "_model_name": "DescriptionStyleModel",
            "_view_count": null,
            "_view_module": "@jupyter-widgets/base",
            "_view_module_version": "1.2.0",
            "_view_name": "StyleView",
            "description_width": ""
          }
        },
        "0b931b822b43485db0bc2b2f82d6aa82": {
          "model_module": "@jupyter-widgets/controls",
          "model_name": "HBoxModel",
          "model_module_version": "1.5.0",
          "state": {
            "_dom_classes": [],
            "_model_module": "@jupyter-widgets/controls",
            "_model_module_version": "1.5.0",
            "_model_name": "HBoxModel",
            "_view_count": null,
            "_view_module": "@jupyter-widgets/controls",
            "_view_module_version": "1.5.0",
            "_view_name": "HBoxView",
            "box_style": "",
            "children": [
              "IPY_MODEL_937eea9064f14b78b449afc0e2026960",
              "IPY_MODEL_279b6117bc0e4efca43cab5d76d3a0f5",
              "IPY_MODEL_534793b9857a4309a822cf0d72d4680a"
            ],
            "layout": "IPY_MODEL_9f742ec7fdc54c74bb78b9d7731db90c"
          }
        },
        "937eea9064f14b78b449afc0e2026960": {
          "model_module": "@jupyter-widgets/controls",
          "model_name": "HTMLModel",
          "model_module_version": "1.5.0",
          "state": {
            "_dom_classes": [],
            "_model_module": "@jupyter-widgets/controls",
            "_model_module_version": "1.5.0",
            "_model_name": "HTMLModel",
            "_view_count": null,
            "_view_module": "@jupyter-widgets/controls",
            "_view_module_version": "1.5.0",
            "_view_name": "HTMLView",
            "description": "",
            "description_tooltip": null,
            "layout": "IPY_MODEL_4db89d41aea74afaaa57d79bb98d23b3",
            "placeholder": "​",
            "style": "IPY_MODEL_2903cd41e87a4b80883fc0a611fc15a1",
            "value": "Downloading: 100%"
          }
        },
        "279b6117bc0e4efca43cab5d76d3a0f5": {
          "model_module": "@jupyter-widgets/controls",
          "model_name": "FloatProgressModel",
          "model_module_version": "1.5.0",
          "state": {
            "_dom_classes": [],
            "_model_module": "@jupyter-widgets/controls",
            "_model_module_version": "1.5.0",
            "_model_name": "FloatProgressModel",
            "_view_count": null,
            "_view_module": "@jupyter-widgets/controls",
            "_view_module_version": "1.5.0",
            "_view_name": "ProgressView",
            "bar_style": "success",
            "description": "",
            "description_tooltip": null,
            "layout": "IPY_MODEL_97e05453c7084392921560319e708247",
            "max": 268943,
            "min": 0,
            "orientation": "horizontal",
            "style": "IPY_MODEL_6bc2b7c7404b4f1e9e49c7f2a5635feb",
            "value": 268943
          }
        },
        "534793b9857a4309a822cf0d72d4680a": {
          "model_module": "@jupyter-widgets/controls",
          "model_name": "HTMLModel",
          "model_module_version": "1.5.0",
          "state": {
            "_dom_classes": [],
            "_model_module": "@jupyter-widgets/controls",
            "_model_module_version": "1.5.0",
            "_model_name": "HTMLModel",
            "_view_count": null,
            "_view_module": "@jupyter-widgets/controls",
            "_view_module_version": "1.5.0",
            "_view_name": "HTMLView",
            "description": "",
            "description_tooltip": null,
            "layout": "IPY_MODEL_d4a9d289b44a4e60bd3c895792c9bbf9",
            "placeholder": "​",
            "style": "IPY_MODEL_aac4a8ab31924fa4acdec71ffa3a18b0",
            "value": " 263k/263k [00:00&lt;00:00, 1.72MB/s]"
          }
        },
        "9f742ec7fdc54c74bb78b9d7731db90c": {
          "model_module": "@jupyter-widgets/base",
          "model_name": "LayoutModel",
          "model_module_version": "1.2.0",
          "state": {
            "_model_module": "@jupyter-widgets/base",
            "_model_module_version": "1.2.0",
            "_model_name": "LayoutModel",
            "_view_count": null,
            "_view_module": "@jupyter-widgets/base",
            "_view_module_version": "1.2.0",
            "_view_name": "LayoutView",
            "align_content": null,
            "align_items": null,
            "align_self": null,
            "border": null,
            "bottom": null,
            "display": null,
            "flex": null,
            "flex_flow": null,
            "grid_area": null,
            "grid_auto_columns": null,
            "grid_auto_flow": null,
            "grid_auto_rows": null,
            "grid_column": null,
            "grid_gap": null,
            "grid_row": null,
            "grid_template_areas": null,
            "grid_template_columns": null,
            "grid_template_rows": null,
            "height": null,
            "justify_content": null,
            "justify_items": null,
            "left": null,
            "margin": null,
            "max_height": null,
            "max_width": null,
            "min_height": null,
            "min_width": null,
            "object_fit": null,
            "object_position": null,
            "order": null,
            "overflow": null,
            "overflow_x": null,
            "overflow_y": null,
            "padding": null,
            "right": null,
            "top": null,
            "visibility": null,
            "width": null
          }
        },
        "4db89d41aea74afaaa57d79bb98d23b3": {
          "model_module": "@jupyter-widgets/base",
          "model_name": "LayoutModel",
          "model_module_version": "1.2.0",
          "state": {
            "_model_module": "@jupyter-widgets/base",
            "_model_module_version": "1.2.0",
            "_model_name": "LayoutModel",
            "_view_count": null,
            "_view_module": "@jupyter-widgets/base",
            "_view_module_version": "1.2.0",
            "_view_name": "LayoutView",
            "align_content": null,
            "align_items": null,
            "align_self": null,
            "border": null,
            "bottom": null,
            "display": null,
            "flex": null,
            "flex_flow": null,
            "grid_area": null,
            "grid_auto_columns": null,
            "grid_auto_flow": null,
            "grid_auto_rows": null,
            "grid_column": null,
            "grid_gap": null,
            "grid_row": null,
            "grid_template_areas": null,
            "grid_template_columns": null,
            "grid_template_rows": null,
            "height": null,
            "justify_content": null,
            "justify_items": null,
            "left": null,
            "margin": null,
            "max_height": null,
            "max_width": null,
            "min_height": null,
            "min_width": null,
            "object_fit": null,
            "object_position": null,
            "order": null,
            "overflow": null,
            "overflow_x": null,
            "overflow_y": null,
            "padding": null,
            "right": null,
            "top": null,
            "visibility": null,
            "width": null
          }
        },
        "2903cd41e87a4b80883fc0a611fc15a1": {
          "model_module": "@jupyter-widgets/controls",
          "model_name": "DescriptionStyleModel",
          "model_module_version": "1.5.0",
          "state": {
            "_model_module": "@jupyter-widgets/controls",
            "_model_module_version": "1.5.0",
            "_model_name": "DescriptionStyleModel",
            "_view_count": null,
            "_view_module": "@jupyter-widgets/base",
            "_view_module_version": "1.2.0",
            "_view_name": "StyleView",
            "description_width": ""
          }
        },
        "97e05453c7084392921560319e708247": {
          "model_module": "@jupyter-widgets/base",
          "model_name": "LayoutModel",
          "model_module_version": "1.2.0",
          "state": {
            "_model_module": "@jupyter-widgets/base",
            "_model_module_version": "1.2.0",
            "_model_name": "LayoutModel",
            "_view_count": null,
            "_view_module": "@jupyter-widgets/base",
            "_view_module_version": "1.2.0",
            "_view_name": "LayoutView",
            "align_content": null,
            "align_items": null,
            "align_self": null,
            "border": null,
            "bottom": null,
            "display": null,
            "flex": null,
            "flex_flow": null,
            "grid_area": null,
            "grid_auto_columns": null,
            "grid_auto_flow": null,
            "grid_auto_rows": null,
            "grid_column": null,
            "grid_gap": null,
            "grid_row": null,
            "grid_template_areas": null,
            "grid_template_columns": null,
            "grid_template_rows": null,
            "height": null,
            "justify_content": null,
            "justify_items": null,
            "left": null,
            "margin": null,
            "max_height": null,
            "max_width": null,
            "min_height": null,
            "min_width": null,
            "object_fit": null,
            "object_position": null,
            "order": null,
            "overflow": null,
            "overflow_x": null,
            "overflow_y": null,
            "padding": null,
            "right": null,
            "top": null,
            "visibility": null,
            "width": null
          }
        },
        "6bc2b7c7404b4f1e9e49c7f2a5635feb": {
          "model_module": "@jupyter-widgets/controls",
          "model_name": "ProgressStyleModel",
          "model_module_version": "1.5.0",
          "state": {
            "_model_module": "@jupyter-widgets/controls",
            "_model_module_version": "1.5.0",
            "_model_name": "ProgressStyleModel",
            "_view_count": null,
            "_view_module": "@jupyter-widgets/base",
            "_view_module_version": "1.2.0",
            "_view_name": "StyleView",
            "bar_color": null,
            "description_width": ""
          }
        },
        "d4a9d289b44a4e60bd3c895792c9bbf9": {
          "model_module": "@jupyter-widgets/base",
          "model_name": "LayoutModel",
          "model_module_version": "1.2.0",
          "state": {
            "_model_module": "@jupyter-widgets/base",
            "_model_module_version": "1.2.0",
            "_model_name": "LayoutModel",
            "_view_count": null,
            "_view_module": "@jupyter-widgets/base",
            "_view_module_version": "1.2.0",
            "_view_name": "LayoutView",
            "align_content": null,
            "align_items": null,
            "align_self": null,
            "border": null,
            "bottom": null,
            "display": null,
            "flex": null,
            "flex_flow": null,
            "grid_area": null,
            "grid_auto_columns": null,
            "grid_auto_flow": null,
            "grid_auto_rows": null,
            "grid_column": null,
            "grid_gap": null,
            "grid_row": null,
            "grid_template_areas": null,
            "grid_template_columns": null,
            "grid_template_rows": null,
            "height": null,
            "justify_content": null,
            "justify_items": null,
            "left": null,
            "margin": null,
            "max_height": null,
            "max_width": null,
            "min_height": null,
            "min_width": null,
            "object_fit": null,
            "object_position": null,
            "order": null,
            "overflow": null,
            "overflow_x": null,
            "overflow_y": null,
            "padding": null,
            "right": null,
            "top": null,
            "visibility": null,
            "width": null
          }
        },
        "aac4a8ab31924fa4acdec71ffa3a18b0": {
          "model_module": "@jupyter-widgets/controls",
          "model_name": "DescriptionStyleModel",
          "model_module_version": "1.5.0",
          "state": {
            "_model_module": "@jupyter-widgets/controls",
            "_model_module_version": "1.5.0",
            "_model_name": "DescriptionStyleModel",
            "_view_count": null,
            "_view_module": "@jupyter-widgets/base",
            "_view_module_version": "1.2.0",
            "_view_name": "StyleView",
            "description_width": ""
          }
        },
        "239b07e3369e44c0854ca5129c9e9e74": {
          "model_module": "@jupyter-widgets/controls",
          "model_name": "HBoxModel",
          "model_module_version": "1.5.0",
          "state": {
            "_dom_classes": [],
            "_model_module": "@jupyter-widgets/controls",
            "_model_module_version": "1.5.0",
            "_model_name": "HBoxModel",
            "_view_count": null,
            "_view_module": "@jupyter-widgets/controls",
            "_view_module_version": "1.5.0",
            "_view_name": "HBoxView",
            "box_style": "",
            "children": [
              "IPY_MODEL_a80e359f73954a00bd85641275c0b51c",
              "IPY_MODEL_a9ce1c692e8845d7904ab6be235496fd",
              "IPY_MODEL_3db76d6db0a8424abf1761460eb82146"
            ],
            "layout": "IPY_MODEL_1bbd68be8b3d456c85fd1c088c131460"
          }
        },
        "a80e359f73954a00bd85641275c0b51c": {
          "model_module": "@jupyter-widgets/controls",
          "model_name": "HTMLModel",
          "model_module_version": "1.5.0",
          "state": {
            "_dom_classes": [],
            "_model_module": "@jupyter-widgets/controls",
            "_model_module_version": "1.5.0",
            "_model_name": "HTMLModel",
            "_view_count": null,
            "_view_module": "@jupyter-widgets/controls",
            "_view_module_version": "1.5.0",
            "_view_name": "HTMLView",
            "description": "",
            "description_tooltip": null,
            "layout": "IPY_MODEL_7f3f0ebf606c495a883500cfb0a3d842",
            "placeholder": "​",
            "style": "IPY_MODEL_fbc6b7eea50340f1a545f3b872aa4f3d",
            "value": "Downloading: 100%"
          }
        },
        "a9ce1c692e8845d7904ab6be235496fd": {
          "model_module": "@jupyter-widgets/controls",
          "model_name": "FloatProgressModel",
          "model_module_version": "1.5.0",
          "state": {
            "_dom_classes": [],
            "_model_module": "@jupyter-widgets/controls",
            "_model_module_version": "1.5.0",
            "_model_name": "FloatProgressModel",
            "_view_count": null,
            "_view_module": "@jupyter-widgets/controls",
            "_view_module_version": "1.5.0",
            "_view_name": "ProgressView",
            "bar_style": "success",
            "description": "",
            "description_tooltip": null,
            "layout": "IPY_MODEL_cc222d31db0149379285ae2b5d68933e",
            "max": 478309336,
            "min": 0,
            "orientation": "horizontal",
            "style": "IPY_MODEL_051df4c8561e452782c7ad67ed3400c3",
            "value": 478309336
          }
        },
        "3db76d6db0a8424abf1761460eb82146": {
          "model_module": "@jupyter-widgets/controls",
          "model_name": "HTMLModel",
          "model_module_version": "1.5.0",
          "state": {
            "_dom_classes": [],
            "_model_module": "@jupyter-widgets/controls",
            "_model_module_version": "1.5.0",
            "_model_name": "HTMLModel",
            "_view_count": null,
            "_view_module": "@jupyter-widgets/controls",
            "_view_module_version": "1.5.0",
            "_view_name": "HTMLView",
            "description": "",
            "description_tooltip": null,
            "layout": "IPY_MODEL_4afda5a8e6a148bb9509478499de6b82",
            "placeholder": "​",
            "style": "IPY_MODEL_f5444fc6201c43139b401d33d3257f97",
            "value": " 456M/456M [00:11&lt;00:00, 56.7MB/s]"
          }
        },
        "1bbd68be8b3d456c85fd1c088c131460": {
          "model_module": "@jupyter-widgets/base",
          "model_name": "LayoutModel",
          "model_module_version": "1.2.0",
          "state": {
            "_model_module": "@jupyter-widgets/base",
            "_model_module_version": "1.2.0",
            "_model_name": "LayoutModel",
            "_view_count": null,
            "_view_module": "@jupyter-widgets/base",
            "_view_module_version": "1.2.0",
            "_view_name": "LayoutView",
            "align_content": null,
            "align_items": null,
            "align_self": null,
            "border": null,
            "bottom": null,
            "display": null,
            "flex": null,
            "flex_flow": null,
            "grid_area": null,
            "grid_auto_columns": null,
            "grid_auto_flow": null,
            "grid_auto_rows": null,
            "grid_column": null,
            "grid_gap": null,
            "grid_row": null,
            "grid_template_areas": null,
            "grid_template_columns": null,
            "grid_template_rows": null,
            "height": null,
            "justify_content": null,
            "justify_items": null,
            "left": null,
            "margin": null,
            "max_height": null,
            "max_width": null,
            "min_height": null,
            "min_width": null,
            "object_fit": null,
            "object_position": null,
            "order": null,
            "overflow": null,
            "overflow_x": null,
            "overflow_y": null,
            "padding": null,
            "right": null,
            "top": null,
            "visibility": null,
            "width": null
          }
        },
        "7f3f0ebf606c495a883500cfb0a3d842": {
          "model_module": "@jupyter-widgets/base",
          "model_name": "LayoutModel",
          "model_module_version": "1.2.0",
          "state": {
            "_model_module": "@jupyter-widgets/base",
            "_model_module_version": "1.2.0",
            "_model_name": "LayoutModel",
            "_view_count": null,
            "_view_module": "@jupyter-widgets/base",
            "_view_module_version": "1.2.0",
            "_view_name": "LayoutView",
            "align_content": null,
            "align_items": null,
            "align_self": null,
            "border": null,
            "bottom": null,
            "display": null,
            "flex": null,
            "flex_flow": null,
            "grid_area": null,
            "grid_auto_columns": null,
            "grid_auto_flow": null,
            "grid_auto_rows": null,
            "grid_column": null,
            "grid_gap": null,
            "grid_row": null,
            "grid_template_areas": null,
            "grid_template_columns": null,
            "grid_template_rows": null,
            "height": null,
            "justify_content": null,
            "justify_items": null,
            "left": null,
            "margin": null,
            "max_height": null,
            "max_width": null,
            "min_height": null,
            "min_width": null,
            "object_fit": null,
            "object_position": null,
            "order": null,
            "overflow": null,
            "overflow_x": null,
            "overflow_y": null,
            "padding": null,
            "right": null,
            "top": null,
            "visibility": null,
            "width": null
          }
        },
        "fbc6b7eea50340f1a545f3b872aa4f3d": {
          "model_module": "@jupyter-widgets/controls",
          "model_name": "DescriptionStyleModel",
          "model_module_version": "1.5.0",
          "state": {
            "_model_module": "@jupyter-widgets/controls",
            "_model_module_version": "1.5.0",
            "_model_name": "DescriptionStyleModel",
            "_view_count": null,
            "_view_module": "@jupyter-widgets/base",
            "_view_module_version": "1.2.0",
            "_view_name": "StyleView",
            "description_width": ""
          }
        },
        "cc222d31db0149379285ae2b5d68933e": {
          "model_module": "@jupyter-widgets/base",
          "model_name": "LayoutModel",
          "model_module_version": "1.2.0",
          "state": {
            "_model_module": "@jupyter-widgets/base",
            "_model_module_version": "1.2.0",
            "_model_name": "LayoutModel",
            "_view_count": null,
            "_view_module": "@jupyter-widgets/base",
            "_view_module_version": "1.2.0",
            "_view_name": "LayoutView",
            "align_content": null,
            "align_items": null,
            "align_self": null,
            "border": null,
            "bottom": null,
            "display": null,
            "flex": null,
            "flex_flow": null,
            "grid_area": null,
            "grid_auto_columns": null,
            "grid_auto_flow": null,
            "grid_auto_rows": null,
            "grid_column": null,
            "grid_gap": null,
            "grid_row": null,
            "grid_template_areas": null,
            "grid_template_columns": null,
            "grid_template_rows": null,
            "height": null,
            "justify_content": null,
            "justify_items": null,
            "left": null,
            "margin": null,
            "max_height": null,
            "max_width": null,
            "min_height": null,
            "min_width": null,
            "object_fit": null,
            "object_position": null,
            "order": null,
            "overflow": null,
            "overflow_x": null,
            "overflow_y": null,
            "padding": null,
            "right": null,
            "top": null,
            "visibility": null,
            "width": null
          }
        },
        "051df4c8561e452782c7ad67ed3400c3": {
          "model_module": "@jupyter-widgets/controls",
          "model_name": "ProgressStyleModel",
          "model_module_version": "1.5.0",
          "state": {
            "_model_module": "@jupyter-widgets/controls",
            "_model_module_version": "1.5.0",
            "_model_name": "ProgressStyleModel",
            "_view_count": null,
            "_view_module": "@jupyter-widgets/base",
            "_view_module_version": "1.2.0",
            "_view_name": "StyleView",
            "bar_color": null,
            "description_width": ""
          }
        },
        "4afda5a8e6a148bb9509478499de6b82": {
          "model_module": "@jupyter-widgets/base",
          "model_name": "LayoutModel",
          "model_module_version": "1.2.0",
          "state": {
            "_model_module": "@jupyter-widgets/base",
            "_model_module_version": "1.2.0",
            "_model_name": "LayoutModel",
            "_view_count": null,
            "_view_module": "@jupyter-widgets/base",
            "_view_module_version": "1.2.0",
            "_view_name": "LayoutView",
            "align_content": null,
            "align_items": null,
            "align_self": null,
            "border": null,
            "bottom": null,
            "display": null,
            "flex": null,
            "flex_flow": null,
            "grid_area": null,
            "grid_auto_columns": null,
            "grid_auto_flow": null,
            "grid_auto_rows": null,
            "grid_column": null,
            "grid_gap": null,
            "grid_row": null,
            "grid_template_areas": null,
            "grid_template_columns": null,
            "grid_template_rows": null,
            "height": null,
            "justify_content": null,
            "justify_items": null,
            "left": null,
            "margin": null,
            "max_height": null,
            "max_width": null,
            "min_height": null,
            "min_width": null,
            "object_fit": null,
            "object_position": null,
            "order": null,
            "overflow": null,
            "overflow_x": null,
            "overflow_y": null,
            "padding": null,
            "right": null,
            "top": null,
            "visibility": null,
            "width": null
          }
        },
        "f5444fc6201c43139b401d33d3257f97": {
          "model_module": "@jupyter-widgets/controls",
          "model_name": "DescriptionStyleModel",
          "model_module_version": "1.5.0",
          "state": {
            "_model_module": "@jupyter-widgets/controls",
            "_model_module_version": "1.5.0",
            "_model_name": "DescriptionStyleModel",
            "_view_count": null,
            "_view_module": "@jupyter-widgets/base",
            "_view_module_version": "1.2.0",
            "_view_name": "StyleView",
            "description_width": ""
          }
        }
      }
    }
  },
  "cells": [
    {
      "cell_type": "markdown",
      "metadata": {
        "id": "view-in-github",
        "colab_type": "text"
      },
      "source": [
        "<a href=\"https://colab.research.google.com/github/yenlung/Deep-Learning-Basics/blob/master/colab04d_%E6%89%BE%E5%88%B0%E6%96%87%E5%AD%97%E7%9A%84embeddings.ipynb\" target=\"_parent\"><img src=\"https://colab.research.google.com/assets/colab-badge.svg\" alt=\"Open In Colab\"/></a>"
      ]
    },
    {
      "cell_type": "code",
      "source": [
        "%matplotlib inline\n",
        "\n",
        "import numpy as np\n",
        "import pandas as pd\n",
        "import matplotlib.pyplot as plt"
      ],
      "metadata": {
        "id": "wqRa8rTIQZWo"
      },
      "execution_count": 1,
      "outputs": []
    },
    {
      "cell_type": "code",
      "source": [
        "## 1. 安裝 `transformers` 套件"
      ],
      "metadata": {
        "id": "I4ovKGl6QgoC"
      },
      "execution_count": 2,
      "outputs": []
    },
    {
      "cell_type": "code",
      "metadata": {
        "colab": {
          "base_uri": "https://localhost:8080/"
        },
        "id": "1xUPAN9sSktg",
        "outputId": "92b50445-97d1-42b7-ed61-bf1ea65bc3bf"
      },
      "source": [
        "!pip install transformers"
      ],
      "execution_count": 3,
      "outputs": [
        {
          "output_type": "stream",
          "name": "stdout",
          "text": [
            "Collecting transformers\n",
            "  Downloading transformers-4.19.1-py3-none-any.whl (4.2 MB)\n",
            "\u001b[K     |████████████████████████████████| 4.2 MB 5.1 MB/s \n",
            "\u001b[?25hCollecting pyyaml>=5.1\n",
            "  Downloading PyYAML-6.0-cp37-cp37m-manylinux_2_5_x86_64.manylinux1_x86_64.manylinux_2_12_x86_64.manylinux2010_x86_64.whl (596 kB)\n",
            "\u001b[K     |████████████████████████████████| 596 kB 66.6 MB/s \n",
            "\u001b[?25hRequirement already satisfied: packaging>=20.0 in /usr/local/lib/python3.7/dist-packages (from transformers) (21.3)\n",
            "Collecting tokenizers!=0.11.3,<0.13,>=0.11.1\n",
            "  Downloading tokenizers-0.12.1-cp37-cp37m-manylinux_2_12_x86_64.manylinux2010_x86_64.whl (6.6 MB)\n",
            "\u001b[K     |████████████████████████████████| 6.6 MB 52.8 MB/s \n",
            "\u001b[?25hCollecting huggingface-hub<1.0,>=0.1.0\n",
            "  Downloading huggingface_hub-0.6.0-py3-none-any.whl (84 kB)\n",
            "\u001b[K     |████████████████████████████████| 84 kB 4.3 MB/s \n",
            "\u001b[?25hRequirement already satisfied: requests in /usr/local/lib/python3.7/dist-packages (from transformers) (2.23.0)\n",
            "Requirement already satisfied: importlib-metadata in /usr/local/lib/python3.7/dist-packages (from transformers) (4.11.3)\n",
            "Requirement already satisfied: regex!=2019.12.17 in /usr/local/lib/python3.7/dist-packages (from transformers) (2019.12.20)\n",
            "Requirement already satisfied: tqdm>=4.27 in /usr/local/lib/python3.7/dist-packages (from transformers) (4.64.0)\n",
            "Requirement already satisfied: numpy>=1.17 in /usr/local/lib/python3.7/dist-packages (from transformers) (1.21.6)\n",
            "Requirement already satisfied: filelock in /usr/local/lib/python3.7/dist-packages (from transformers) (3.6.0)\n",
            "Requirement already satisfied: typing-extensions>=3.7.4.3 in /usr/local/lib/python3.7/dist-packages (from huggingface-hub<1.0,>=0.1.0->transformers) (4.2.0)\n",
            "Requirement already satisfied: pyparsing!=3.0.5,>=2.0.2 in /usr/local/lib/python3.7/dist-packages (from packaging>=20.0->transformers) (3.0.8)\n",
            "Requirement already satisfied: zipp>=0.5 in /usr/local/lib/python3.7/dist-packages (from importlib-metadata->transformers) (3.8.0)\n",
            "Requirement already satisfied: certifi>=2017.4.17 in /usr/local/lib/python3.7/dist-packages (from requests->transformers) (2021.10.8)\n",
            "Requirement already satisfied: idna<3,>=2.5 in /usr/local/lib/python3.7/dist-packages (from requests->transformers) (2.10)\n",
            "Requirement already satisfied: chardet<4,>=3.0.2 in /usr/local/lib/python3.7/dist-packages (from requests->transformers) (3.0.4)\n",
            "Requirement already satisfied: urllib3!=1.25.0,!=1.25.1,<1.26,>=1.21.1 in /usr/local/lib/python3.7/dist-packages (from requests->transformers) (1.24.3)\n",
            "Installing collected packages: pyyaml, tokenizers, huggingface-hub, transformers\n",
            "  Attempting uninstall: pyyaml\n",
            "    Found existing installation: PyYAML 3.13\n",
            "    Uninstalling PyYAML-3.13:\n",
            "      Successfully uninstalled PyYAML-3.13\n",
            "Successfully installed huggingface-hub-0.6.0 pyyaml-6.0 tokenizers-0.12.1 transformers-4.19.1\n"
          ]
        }
      ]
    },
    {
      "cell_type": "markdown",
      "source": [
        "## 2. 使用 Bert 的 Tokenizer"
      ],
      "metadata": {
        "id": "cBStewADQnu7"
      }
    },
    {
      "cell_type": "code",
      "metadata": {
        "id": "V8BlxHryJLI2"
      },
      "source": [
        "from transformers import BertTokenizer"
      ],
      "execution_count": 4,
      "outputs": []
    },
    {
      "cell_type": "code",
      "metadata": {
        "id": "irgYsdzXJZyB",
        "colab": {
          "base_uri": "https://localhost:8080/",
          "height": 113,
          "referenced_widgets": [
            "401eb335cb5142b6baef50fe19dce573",
            "de4b8a2c1b82487488cff2ccf4b00745",
            "d085df42738745e883ff4e00a9f813e5",
            "99db179bb08f462eab7da1ceee238729",
            "5a0926f9bdc8459e89fce02677f1d7a6",
            "9ceda403277e4a0082797a8d28723367",
            "a00fb226f66f47b1ac573748cc575d01",
            "bd18b281cc3348da91a00ab18657f7e0",
            "914e895dc8774b308be2825666a39cbe",
            "43a92c4f97bd474ebee6b0c568453b09",
            "e3663755895e4c4d919182edcc2f7236",
            "4756b76df1bf44459440eed5e2514b3f",
            "28ee00a4485b43c5ad447591fbddb087",
            "e8337a003cfe41dca9884b4b7e54256c",
            "1fe284b37dc84e5ea9520648c10e5218",
            "94655991b74c4a9497ab8ff2ef3260cf",
            "c5ca6756e7c14908b40e518e56e43ee1",
            "afeae272cf1f4883b66e95398821b919",
            "035d78801594437e9efc0f91b83455b6",
            "e238da1cafe44ce1b25373e44ab94bd3",
            "8c48c7b14d584db09bc99cc2fd362853",
            "2e8a9f0bb5ba47ee949d1c9b540ea9e8",
            "8d3a2c59821f49899a70e881807e6120",
            "144042e322b3471da31fe64e9de587b0",
            "d7771c0e3da2490abab42c11f27621d1",
            "90abf0eaf8db44f29ce3356d79d6acbb",
            "8b32273b05434bd89b174ad5553afd86",
            "63773c6056c04ec6bcddba2afa424f71",
            "fe36feb35ede46f686ac7e803eff582f",
            "67f34d46def548f7b700df9c499fc629",
            "887d8d9918fa491c8913e06a2f5f8969",
            "32b7ca1cd5e546659d94c66585847f53",
            "f44bea0b185343d0853bdb13e3463a81"
          ]
        },
        "outputId": "f8019ee1-fcda-44d9-d233-64c8c34069bb"
      },
      "source": [
        "tokenizer = BertTokenizer.from_pretrained(\"bert-base-chinese\")"
      ],
      "execution_count": 5,
      "outputs": [
        {
          "output_type": "display_data",
          "data": {
            "text/plain": [
              "Downloading:   0%|          | 0.00/107k [00:00<?, ?B/s]"
            ],
            "application/vnd.jupyter.widget-view+json": {
              "version_major": 2,
              "version_minor": 0,
              "model_id": "401eb335cb5142b6baef50fe19dce573"
            }
          },
          "metadata": {}
        },
        {
          "output_type": "display_data",
          "data": {
            "text/plain": [
              "Downloading:   0%|          | 0.00/29.0 [00:00<?, ?B/s]"
            ],
            "application/vnd.jupyter.widget-view+json": {
              "version_major": 2,
              "version_minor": 0,
              "model_id": "4756b76df1bf44459440eed5e2514b3f"
            }
          },
          "metadata": {}
        },
        {
          "output_type": "display_data",
          "data": {
            "text/plain": [
              "Downloading:   0%|          | 0.00/624 [00:00<?, ?B/s]"
            ],
            "application/vnd.jupyter.widget-view+json": {
              "version_major": 2,
              "version_minor": 0,
              "model_id": "8d3a2c59821f49899a70e881807e6120"
            }
          },
          "metadata": {}
        }
      ]
    },
    {
      "cell_type": "markdown",
      "source": [
        "一句話來變成 BERT 編碼!"
      ],
      "metadata": {
        "id": "z6FiJfe2Qtbd"
      }
    },
    {
      "cell_type": "code",
      "metadata": {
        "colab": {
          "base_uri": "https://localhost:8080/"
        },
        "id": "9oCI7T3zJgRf",
        "outputId": "b860e93b-4bda-4be4-aa6f-2aff860779ca"
      },
      "source": [
        "tokenizer([\"測試一句話\"])"
      ],
      "execution_count": 6,
      "outputs": [
        {
          "output_type": "execute_result",
          "data": {
            "text/plain": [
              "{'input_ids': [[101, 3947, 6275, 671, 1368, 6282, 102]], 'token_type_ids': [[0, 0, 0, 0, 0, 0, 0]], 'attention_mask': [[1, 1, 1, 1, 1, 1, 1]]}"
            ]
          },
          "metadata": {},
          "execution_count": 6
        }
      ]
    },
    {
      "cell_type": "markdown",
      "source": [
        "我們可以看出這是一個字、一個字切的。"
      ],
      "metadata": {
        "id": "BI8i5IlnQ3al"
      }
    },
    {
      "cell_type": "code",
      "metadata": {
        "colab": {
          "base_uri": "https://localhost:8080/"
        },
        "id": "1tFDmuYEJosw",
        "outputId": "7bb6e809-d742-401e-ac4c-b677726c28d1"
      },
      "source": [
        "tokenizer.tokenize(\"測試一句話\")"
      ],
      "execution_count": null,
      "outputs": [
        {
          "output_type": "execute_result",
          "data": {
            "text/plain": [
              "['測', '試', '一', '句', '話']"
            ]
          },
          "metadata": {
            "tags": []
          },
          "execution_count": 7
        }
      ]
    },
    {
      "cell_type": "markdown",
      "source": [
        "真的送進 BERT 應該長這樣。"
      ],
      "metadata": {
        "id": "iuJ9n3JnKye4"
      }
    },
    {
      "cell_type": "code",
      "metadata": {
        "colab": {
          "base_uri": "https://localhost:8080/"
        },
        "id": "mvQkRJ8rKLXc",
        "outputId": "e7981286-98be-416d-ec29-02f87d9b87a9"
      },
      "source": [
        "tokenizer.convert_ids_to_tokens([101, 3947, 6275, 671, 1368, 6282, 102])"
      ],
      "execution_count": 7,
      "outputs": [
        {
          "output_type": "execute_result",
          "data": {
            "text/plain": [
              "['[CLS]', '測', '試', '一', '句', '話', '[SEP]']"
            ]
          },
          "metadata": {},
          "execution_count": 7
        }
      ]
    },
    {
      "cell_type": "code",
      "metadata": {
        "colab": {
          "base_uri": "https://localhost:8080/"
        },
        "id": "lyRMkVHvKcWx",
        "outputId": "20215c9b-215a-48ef-9a1b-691be9dc8909"
      },
      "source": [
        "tokenizer.convert_ids_to_tokens([3947, 6275, 671, 1368, 6282])"
      ],
      "execution_count": 8,
      "outputs": [
        {
          "output_type": "execute_result",
          "data": {
            "text/plain": [
              "['測', '試', '一', '句', '話']"
            ]
          },
          "metadata": {},
          "execution_count": 8
        }
      ]
    },
    {
      "cell_type": "markdown",
      "source": [
        "一次好幾句的試驗!"
      ],
      "metadata": {
        "id": "3O3QhJmpXsbF"
      }
    },
    {
      "cell_type": "code",
      "metadata": {
        "colab": {
          "base_uri": "https://localhost:8080/"
        },
        "id": "LsuXSjj6K7Y4",
        "outputId": "30b2cbb2-347f-466f-c3b3-6a7c777ef7e9"
      },
      "source": [
        "tokenizer([\"測試一句話\", \"中間夾。\", \"也許這樣吧。\", \"買iPhone。\"])"
      ],
      "execution_count": 9,
      "outputs": [
        {
          "output_type": "execute_result",
          "data": {
            "text/plain": [
              "{'input_ids': [[101, 3947, 6275, 671, 1368, 6282, 102], [101, 704, 7279, 1933, 511, 102], [101, 738, 6258, 6857, 3564, 1416, 511, 102], [101, 6525, 100, 511, 102]], 'token_type_ids': [[0, 0, 0, 0, 0, 0, 0], [0, 0, 0, 0, 0, 0], [0, 0, 0, 0, 0, 0, 0, 0], [0, 0, 0, 0, 0]], 'attention_mask': [[1, 1, 1, 1, 1, 1, 1], [1, 1, 1, 1, 1, 1], [1, 1, 1, 1, 1, 1, 1, 1], [1, 1, 1, 1, 1]]}"
            ]
          },
          "metadata": {},
          "execution_count": 9
        }
      ]
    },
    {
      "cell_type": "code",
      "metadata": {
        "colab": {
          "base_uri": "https://localhost:8080/"
        },
        "id": "iZJ8HvStLNxL",
        "outputId": "0b85c947-7a7b-4ab3-8c37-86a29042b2d2"
      },
      "source": [
        "tokenizer([\"abc\", \"David\", \"蘋果Apple\"])"
      ],
      "execution_count": 10,
      "outputs": [
        {
          "output_type": "execute_result",
          "data": {
            "text/plain": [
              "{'input_ids': [[101, 8425, 102], [101, 100, 102], [101, 5981, 3362, 100, 102]], 'token_type_ids': [[0, 0, 0], [0, 0, 0], [0, 0, 0, 0, 0]], 'attention_mask': [[1, 1, 1], [1, 1, 1], [1, 1, 1, 1, 1]]}"
            ]
          },
          "metadata": {},
          "execution_count": 10
        }
      ]
    },
    {
      "cell_type": "code",
      "metadata": {
        "colab": {
          "base_uri": "https://localhost:8080/"
        },
        "id": "-LwD5NR4LshN",
        "outputId": "c95fde2d-452f-4d4c-d96a-cea333f4c45c"
      },
      "source": [
        "tokenizer.convert_ids_to_tokens([8425,8776,8350])"
      ],
      "execution_count": 11,
      "outputs": [
        {
          "output_type": "execute_result",
          "data": {
            "text/plain": [
              "['abc', 'david', 'apple']"
            ]
          },
          "metadata": {},
          "execution_count": 11
        }
      ]
    },
    {
      "cell_type": "markdown",
      "source": [
        "## 3. 找到文字的 embedding"
      ],
      "metadata": {
        "id": "j069FAMZL5jx"
      }
    },
    {
      "cell_type": "code",
      "source": [
        "from transformers import AutoTokenizer"
      ],
      "metadata": {
        "id": "40-6FKvaSLeK"
      },
      "execution_count": 12,
      "outputs": []
    },
    {
      "cell_type": "code",
      "source": [
        "checkpoint = \"bert-base-chinese\""
      ],
      "metadata": {
        "id": "eDla_wgdSUnp"
      },
      "execution_count": 13,
      "outputs": []
    },
    {
      "cell_type": "code",
      "source": [
        "tokenizer2 = AutoTokenizer.from_pretrained(checkpoint)"
      ],
      "metadata": {
        "colab": {
          "base_uri": "https://localhost:8080/",
          "height": 49,
          "referenced_widgets": [
            "0b931b822b43485db0bc2b2f82d6aa82",
            "937eea9064f14b78b449afc0e2026960",
            "279b6117bc0e4efca43cab5d76d3a0f5",
            "534793b9857a4309a822cf0d72d4680a",
            "9f742ec7fdc54c74bb78b9d7731db90c",
            "4db89d41aea74afaaa57d79bb98d23b3",
            "2903cd41e87a4b80883fc0a611fc15a1",
            "97e05453c7084392921560319e708247",
            "6bc2b7c7404b4f1e9e49c7f2a5635feb",
            "d4a9d289b44a4e60bd3c895792c9bbf9",
            "aac4a8ab31924fa4acdec71ffa3a18b0"
          ]
        },
        "id": "UTCSRN20Scuh",
        "outputId": "007e399f-1813-4729-8df3-1bfe3c6baaa4"
      },
      "execution_count": 14,
      "outputs": [
        {
          "output_type": "display_data",
          "data": {
            "text/plain": [
              "Downloading:   0%|          | 0.00/263k [00:00<?, ?B/s]"
            ],
            "application/vnd.jupyter.widget-view+json": {
              "version_major": 2,
              "version_minor": 0,
              "model_id": "0b931b822b43485db0bc2b2f82d6aa82"
            }
          },
          "metadata": {}
        }
      ]
    },
    {
      "cell_type": "code",
      "source": [
        "sequence = \"我想看看這會變成什麼\""
      ],
      "metadata": {
        "id": "ZeKU9ffSSfuu"
      },
      "execution_count": 15,
      "outputs": []
    },
    {
      "cell_type": "code",
      "source": [
        "model_inputs = tokenizer2(sequence)"
      ],
      "metadata": {
        "id": "smrDNQTfSlgj"
      },
      "execution_count": 19,
      "outputs": []
    },
    {
      "cell_type": "code",
      "source": [
        "model_inputs[\"input_ids\"]"
      ],
      "metadata": {
        "colab": {
          "base_uri": "https://localhost:8080/"
        },
        "id": "1xc1QzmUSoZN",
        "outputId": "4b582eca-90d5-4f36-abeb-3e22de66b489"
      },
      "execution_count": 22,
      "outputs": [
        {
          "output_type": "execute_result",
          "data": {
            "text/plain": [
              "[101, 2769, 2682, 4692, 4692, 6857, 3298, 6365, 2768, 784, 7938, 102]"
            ]
          },
          "metadata": {},
          "execution_count": 22
        }
      ]
    },
    {
      "cell_type": "code",
      "source": [
        "from transformers import TFBertModel"
      ],
      "metadata": {
        "id": "ZQtPK1dnS5xg"
      },
      "execution_count": 23,
      "outputs": []
    },
    {
      "cell_type": "code",
      "source": [
        "\n",
        "model = TFBertModel.from_pretrained(checkpoint)"
      ],
      "metadata": {
        "colab": {
          "base_uri": "https://localhost:8080/",
          "height": 157,
          "referenced_widgets": [
            "239b07e3369e44c0854ca5129c9e9e74",
            "a80e359f73954a00bd85641275c0b51c",
            "a9ce1c692e8845d7904ab6be235496fd",
            "3db76d6db0a8424abf1761460eb82146",
            "1bbd68be8b3d456c85fd1c088c131460",
            "7f3f0ebf606c495a883500cfb0a3d842",
            "fbc6b7eea50340f1a545f3b872aa4f3d",
            "cc222d31db0149379285ae2b5d68933e",
            "051df4c8561e452782c7ad67ed3400c3",
            "4afda5a8e6a148bb9509478499de6b82",
            "f5444fc6201c43139b401d33d3257f97"
          ]
        },
        "id": "FQWuU5h2U2II",
        "outputId": "43e2c18b-9541-4a00-e1d4-84039def8d3c"
      },
      "execution_count": 24,
      "outputs": [
        {
          "output_type": "display_data",
          "data": {
            "text/plain": [
              "Downloading:   0%|          | 0.00/456M [00:00<?, ?B/s]"
            ],
            "application/vnd.jupyter.widget-view+json": {
              "version_major": 2,
              "version_minor": 0,
              "model_id": "239b07e3369e44c0854ca5129c9e9e74"
            }
          },
          "metadata": {}
        },
        {
          "output_type": "stream",
          "name": "stderr",
          "text": [
            "Some layers from the model checkpoint at bert-base-chinese were not used when initializing TFBertModel: ['mlm___cls', 'nsp___cls']\n",
            "- This IS expected if you are initializing TFBertModel from the checkpoint of a model trained on another task or with another architecture (e.g. initializing a BertForSequenceClassification model from a BertForPreTraining model).\n",
            "- This IS NOT expected if you are initializing TFBertModel from the checkpoint of a model that you expect to be exactly identical (initializing a BertForSequenceClassification model from a BertForSequenceClassification model).\n",
            "All the layers of TFBertModel were initialized from the model checkpoint at bert-base-chinese.\n",
            "If your task is similar to the task the model of the checkpoint was trained on, you can already use TFBertModel for predictions without further training.\n"
          ]
        }
      ]
    },
    {
      "cell_type": "code",
      "source": [
        "import tensorflow as tf"
      ],
      "metadata": {
        "id": "kkLOCS42U5qJ"
      },
      "execution_count": 27,
      "outputs": []
    },
    {
      "cell_type": "code",
      "source": [
        "model_inp = tf.constant([model_inputs[\"input_ids\"]])"
      ],
      "metadata": {
        "id": "WiVsOCffVL0O"
      },
      "execution_count": 28,
      "outputs": []
    },
    {
      "cell_type": "code",
      "source": [
        "model_inp"
      ],
      "metadata": {
        "colab": {
          "base_uri": "https://localhost:8080/"
        },
        "id": "4HQ7-U8LVqoo",
        "outputId": "fbe0927e-649d-49e9-88ef-04d7baf24bd3"
      },
      "execution_count": 29,
      "outputs": [
        {
          "output_type": "execute_result",
          "data": {
            "text/plain": [
              "<tf.Tensor: shape=(1, 12), dtype=int32, numpy=\n",
              "array([[ 101, 2769, 2682, 4692, 4692, 6857, 3298, 6365, 2768,  784, 7938,\n",
              "         102]], dtype=int32)>"
            ]
          },
          "metadata": {},
          "execution_count": 29
        }
      ]
    },
    {
      "cell_type": "code",
      "source": [
        "output = model(model_inp)"
      ],
      "metadata": {
        "id": "-IcA84UkVsHh"
      },
      "execution_count": 30,
      "outputs": []
    },
    {
      "cell_type": "code",
      "source": [
        "h = output['last_hidden_state'].numpy()[0][0]"
      ],
      "metadata": {
        "id": "DKK6c1ViVxa8"
      },
      "execution_count": 49,
      "outputs": []
    },
    {
      "cell_type": "code",
      "source": [
        "h"
      ],
      "metadata": {
        "colab": {
          "base_uri": "https://localhost:8080/"
        },
        "id": "g3HkOXniVyMA",
        "outputId": "901edee4-fcc5-4a06-bf49-955fb12a0ec8"
      },
      "execution_count": 52,
      "outputs": [
        {
          "output_type": "execute_result",
          "data": {
            "text/plain": [
              "array([-2.99048007e-01,  4.56823051e-01,  5.82943082e-01, -4.11516964e-01,\n",
              "       -1.71039820e-01, -4.91626292e-01, -6.47809148e-01, -5.26151180e-01,\n",
              "       -4.55655694e-01,  4.39405113e-01,  3.13840002e-01,  3.97040337e-01,\n",
              "        2.57390112e-01, -7.44233787e-01,  1.57073975e+00, -6.02495432e-01,\n",
              "        3.26073140e-01, -1.29350936e+00,  4.72841889e-01, -2.41677999e-01,\n",
              "       -3.53348821e-01,  3.60392094e-01, -3.66648644e-01, -5.83259344e-01,\n",
              "        2.78585523e-01,  5.10834813e-01, -1.07827701e-01, -6.50267527e-02,\n",
              "        4.87270892e-01,  6.90398455e-01,  6.89542368e-02, -2.00402051e-01,\n",
              "       -7.77645111e-01, -4.56595480e-01, -2.12552428e-01, -5.58262408e-01,\n",
              "       -3.43980610e-01,  2.74059445e-01,  5.78915477e-02, -4.94238883e-01,\n",
              "        1.05730891e+00, -9.70214307e-02,  8.59945118e-02,  2.27669859e+00,\n",
              "        1.93625242e-01, -3.34333181e-01,  3.02552760e-01,  3.14233571e-01,\n",
              "       -6.46616280e-01,  2.31464982e-01,  3.39613646e-01,  1.01438055e+01,\n",
              "        2.00304723e+00,  3.96680206e-01, -8.06530237e-01,  4.38990951e-01,\n",
              "        1.80545628e-01, -3.72704893e-01, -3.85095477e-01, -9.06361580e-01,\n",
              "       -3.50477129e-01, -7.94598758e-01,  9.98790443e-01,  9.85723555e-01,\n",
              "        7.39537656e-01,  2.51225829e-02,  1.24341764e-01, -2.84668148e-01,\n",
              "       -1.60876977e+00, -4.09623742e-01,  2.15249985e-01, -1.00547922e+00,\n",
              "        1.38453591e+00,  4.12052453e-01, -7.64292657e-01,  6.50802910e-01,\n",
              "        1.76834911e-01, -8.95895898e-01,  1.34023502e-02,  9.66677666e-01,\n",
              "       -5.66019863e-02,  6.19104207e-01,  3.97210196e-02,  1.84372291e-01,\n",
              "        5.71863353e-01,  8.60809758e-02, -3.37054402e-01, -2.24615550e+00,\n",
              "        7.66767025e-01,  9.92800057e-01,  4.24168073e-02, -8.16824555e-01,\n",
              "        1.12568647e-01,  6.39262617e-01,  6.21539354e-01, -3.02738547e-01,\n",
              "        1.99502438e-01,  3.74858052e-01, -1.67958364e-02, -2.34535050e+00,\n",
              "        6.97224617e-01,  1.42997921e+00,  8.74282271e-02,  1.21734321e-01,\n",
              "       -6.02225482e-01, -1.73621207e-01, -6.60387933e-01, -1.40509099e-01,\n",
              "       -2.09342688e-01, -5.88617504e-01, -6.70827568e-01, -5.93021631e-01,\n",
              "       -2.45849669e-01,  2.14986503e-01, -8.40286493e-01,  2.21457422e-01,\n",
              "       -1.03872311e+00, -2.28653505e-01, -2.71845984e+00,  5.19019008e-01,\n",
              "        3.79769087e-01,  7.46668652e-02,  1.34481490e-01, -1.06568503e+00,\n",
              "        1.41047883e+00, -6.03933752e-01,  2.47010455e-01,  2.95470119e-01,\n",
              "       -4.76486295e-01,  3.21341217e-01,  1.57391584e+00,  2.18618736e-02,\n",
              "       -1.90378755e-01, -4.66398358e-01,  1.62703657e+00,  1.83965772e-01,\n",
              "        1.25238553e-01, -2.59695619e-01, -9.34771180e-01, -5.27251437e-02,\n",
              "       -8.04897666e-01, -5.89516819e-01, -2.06569433e-01,  6.88546717e-01,\n",
              "        1.94950438e+00,  7.77397633e-01, -2.27402493e-01, -2.07651496e-01,\n",
              "        5.02362251e-01, -4.41632867e-01, -6.14107966e-01, -3.93448830e-01,\n",
              "       -6.53055310e-01, -1.23307910e-02,  7.09971666e-01, -1.04650557e+00,\n",
              "       -1.42193198e-01, -1.40082479e-01, -4.92645800e-02, -3.48062366e-01,\n",
              "       -3.62282068e-01,  9.07092690e-01, -7.91741669e-01, -2.06850275e-01,\n",
              "        1.22029535e-01, -4.56082672e-02, -2.21171737e-01, -1.22152537e-01,\n",
              "        2.72352815e-01,  4.47916865e-01,  3.12524587e-02,  1.22158849e+00,\n",
              "       -2.31201887e-01,  1.40387177e-01,  1.75715089e-02, -2.44931355e-01,\n",
              "       -6.29495978e-01, -4.97611344e-01, -1.20963478e+00, -2.02974916e-01,\n",
              "       -5.02969027e-01, -2.27529675e-01,  5.09087205e-01,  2.39396647e-01,\n",
              "       -1.25292134e+00, -7.71325529e-01,  6.00945130e-02,  1.38584167e-01,\n",
              "       -1.56761646e-01,  4.00570571e-01, -8.27910602e-02, -3.44099998e-02,\n",
              "       -3.22425318e+00, -1.61398977e-01,  6.55845165e-01,  2.56862849e-01,\n",
              "       -1.39555603e-01,  4.23757911e-01, -5.03696859e-01,  5.88291764e-01,\n",
              "       -4.20933753e-01, -8.90916944e-01, -4.99186397e-01,  2.25802809e-02,\n",
              "       -1.94715694e-01,  4.12004501e-01, -9.95938256e-02,  9.00540829e-01,\n",
              "        4.76635337e-01,  5.61749399e-01,  3.55101466e-01, -3.03251982e-01,\n",
              "       -7.35456944e-01, -4.79902446e-01,  5.93360603e-01,  9.50333238e-01,\n",
              "        4.18561101e-01,  5.59725046e-01,  6.43651038e-02, -8.80189687e-02,\n",
              "        8.03983390e-01,  6.58810973e-01,  7.10912585e-01, -1.51264757e-01,\n",
              "        3.70236516e-01,  2.80536652e-01,  4.39454317e-01,  3.73278320e-01,\n",
              "        6.67704046e-02, -3.01288158e-01, -2.96106130e-01, -8.09883714e-01,\n",
              "       -5.73687077e-01, -4.06457067e-01,  4.29627895e-01,  6.64217353e-01,\n",
              "        9.96101648e-04,  2.12847069e-01,  1.21122289e+00,  3.46035957e-01,\n",
              "       -1.30709127e-01, -8.50333273e-02, -4.62745547e-01, -1.79673627e-01,\n",
              "       -5.58807068e-02,  1.05124879e+00,  1.40584514e-01,  1.26531124e+00,\n",
              "       -4.63458076e-02,  4.91327196e-01,  3.81259888e-01, -5.14251232e-01,\n",
              "        6.59616947e-01, -8.79397333e-01,  8.31496492e-02,  6.70979261e-01,\n",
              "        9.65267599e-01, -1.92985520e-01,  1.33006319e-01, -8.97989273e-02,\n",
              "        1.59014893e+00, -2.20510587e-01,  4.97087687e-01,  7.04586029e-01,\n",
              "        1.53484046e-01, -2.53438145e-01,  1.02687025e+00, -6.02065086e-01,\n",
              "        2.63014346e-01,  2.69854367e-01,  4.35414642e-01,  9.88073647e-02,\n",
              "        8.69475186e-01, -2.56368548e-01, -1.83662069e+00, -3.31858784e-01,\n",
              "       -2.98235178e-01, -4.18085456e-01,  1.64576399e+00, -3.29637021e-01,\n",
              "       -3.75459373e-01, -5.74855208e-01,  3.47525030e-02, -2.32140288e-01,\n",
              "       -5.82527339e-01,  7.24825189e-02, -8.41436684e-02,  6.51356399e-01,\n",
              "        3.40493411e-01, -4.83074129e-01, -5.53332940e-02,  2.58407623e-01,\n",
              "       -1.41222030e-01, -2.32482299e-01,  1.09913528e+00, -5.56335449e-02,\n",
              "        7.31680632e-01,  3.45865250e-01,  3.04444641e-01, -4.51726913e-01,\n",
              "       -5.75203359e-01, -1.06814153e-01, -8.22511673e-01,  1.05638683e+00,\n",
              "       -2.00469345e-01, -1.95555687e-01,  3.93411256e-02,  4.78629977e-01,\n",
              "       -1.09764367e-01, -4.06736344e-01, -2.12077409e-01, -8.51861686e-02,\n",
              "        7.19957530e-01, -2.66270712e-02, -1.05949318e+00, -4.93676990e-01,\n",
              "       -6.03750408e-01, -2.84868389e-01, -1.18544769e+00, -9.99961346e-02,\n",
              "       -7.91518465e-02,  2.57303804e-01,  2.37834737e-01,  4.24828142e-01,\n",
              "       -5.60945332e-01, -5.89197338e-01,  2.91469097e-01,  9.38257277e-02,\n",
              "        6.01282120e-01,  2.05177531e-01,  3.55396122e-01,  1.10862814e-01,\n",
              "        1.05240679e+00,  5.30780911e-01, -3.03685755e-01,  1.03861034e-01,\n",
              "       -2.41754413e-01, -1.27983347e-01,  3.07820082e-01, -1.32849884e+00,\n",
              "       -1.82982236e-01, -2.85797715e-01,  2.86139518e-01,  7.71619678e-01,\n",
              "       -1.90207064e-01,  5.80391884e-01, -8.06162000e-01, -3.93760145e-01,\n",
              "       -3.81962955e-01, -6.28418922e-02, -1.44199061e+00, -1.42906129e-01,\n",
              "       -5.51702261e-01,  1.06426024e+00, -6.79561138e-01,  1.33215618e+00,\n",
              "       -6.51196241e-02, -1.66689888e-01,  1.08669877e+00,  7.45094240e-01,\n",
              "       -3.02905321e-01, -5.59881687e-01, -5.16494632e-01, -1.63083923e+00,\n",
              "       -1.10576987e-01, -1.24626029e+00,  3.36105585e-01, -6.86387002e-01,\n",
              "        4.09031332e-01, -8.69644225e-01, -4.11269397e-01,  4.41404134e-02,\n",
              "        5.72310030e-01, -1.21756089e+00,  8.20602000e-01,  2.88875043e-01,\n",
              "        4.02847886e-01,  3.83060038e-01,  1.07445943e+00, -7.55545497e-01,\n",
              "       -6.18132770e-01,  1.77589566e-01, -3.86867881e-01, -4.92737961e+00,\n",
              "       -1.45843291e+00, -7.21137822e-01,  3.73530865e-01, -7.67366588e-02,\n",
              "        9.28751111e-01, -6.84643090e-01, -3.59998435e-01, -1.32741690e-01,\n",
              "       -3.18691373e-01, -2.05488348e+00,  8.67257789e-02,  5.46900272e-01,\n",
              "       -1.38888419e-01, -3.29466045e-01,  4.66030389e-01,  1.72242194e-01,\n",
              "        2.83309817e-01, -7.06700563e-01,  1.44991791e+00, -4.20415178e-02,\n",
              "        1.26268134e-01, -3.78706753e-01,  6.28403366e-01,  6.26042724e-01,\n",
              "        1.01472390e+00, -1.25328481e+00, -1.14971653e-01,  6.62736297e-01,\n",
              "        1.61233199e+00, -4.72906560e-01, -2.89923668e-01,  8.30474347e-02,\n",
              "       -9.46431309e-02, -7.68666029e-01,  4.18287754e-01,  5.93876958e-01,\n",
              "        1.66865796e-01,  2.30820119e-01, -1.54222429e+00,  1.00384116e+00,\n",
              "        1.56128287e-01, -1.05623484e+00,  6.98433340e-01,  9.53530729e-01,\n",
              "        3.08403820e-01, -9.45398957e-02,  2.11667016e-01,  4.39081579e-01,\n",
              "       -7.91084468e-01,  1.01935732e+00, -1.13242316e+00,  2.16488242e-01,\n",
              "       -5.57269156e-01, -3.71322989e-01, -1.24049503e-02,  2.86236316e-01,\n",
              "       -5.81507906e-02, -1.75277516e-01,  5.36736250e-01,  9.19853002e-02,\n",
              "        1.50491512e+00,  4.83583421e-01,  1.03700414e-01, -7.22227573e-01,\n",
              "       -1.04534477e-01,  4.51037586e-02, -1.27666071e-01,  4.57102656e-02,\n",
              "        2.33140245e-01, -1.31082803e-01,  3.46400470e-01, -1.60082996e-01,\n",
              "       -2.87132263e-02,  1.85624123e-01, -1.51233304e+00,  5.22523165e-01,\n",
              "        5.05723774e-01, -2.24445567e-01,  9.58959609e-02, -1.71566650e-01,\n",
              "       -2.82881826e-01, -9.63357687e-01, -1.75280988e-01, -6.37178421e-01,\n",
              "        5.60143948e-01, -4.35842842e-01, -5.91869831e-01,  5.50947368e-01,\n",
              "       -2.45515794e-01, -4.51164097e-01, -5.96509933e-01, -2.53421739e-02,\n",
              "       -3.30365837e-01, -1.86064929e-01, -1.12490940e+00, -1.38849282e+00,\n",
              "        1.59584135e-01, -2.98909217e-01,  3.81396723e+00, -1.36794709e-03,\n",
              "        5.25686860e-01,  7.66463280e-01,  1.23310015e-01, -1.52458870e+00,\n",
              "        9.06624734e-01,  1.81486130e-01, -1.67509627e+00, -2.76485264e-01,\n",
              "        1.75381862e-02, -6.67322576e-01, -6.27154648e-01,  2.54497021e-01,\n",
              "       -3.27322185e-01,  7.40916580e-02,  5.43182313e-01,  6.35769308e-01,\n",
              "        3.87096137e-01, -1.33340514e+00,  8.37171555e-01, -5.46411574e-01,\n",
              "        1.89718679e-01, -3.16829920e-01,  4.16358896e-02,  2.66567051e-01,\n",
              "       -5.49118876e-01, -2.55362809e-01,  2.61770859e-02,  3.67422760e-01,\n",
              "       -7.63022006e-02,  1.41409278e-01,  7.10911512e-01,  1.66742414e-01,\n",
              "       -1.17583168e+00,  8.58279586e-01, -1.46866992e-01, -5.61734796e-01,\n",
              "       -1.49505138e+00, -1.86251193e-01,  1.07185709e+00, -2.40311205e-01,\n",
              "       -4.84894454e-01, -1.64642262e+00, -4.40207899e-01, -3.43995765e-02,\n",
              "        4.79368269e-01,  4.42923903e-02, -5.54857135e-01, -1.82010770e-01,\n",
              "       -7.00954795e-01,  3.61248225e-01, -5.64095914e-01,  5.67835644e-02,\n",
              "        4.39357519e-01, -8.07481527e-01,  3.96893114e-01,  3.51251274e-01,\n",
              "        8.72707218e-02, -5.46408668e-02, -2.68090546e-01, -4.26641047e-01,\n",
              "        9.60237503e-01, -3.10672373e-01, -1.11287439e+00, -3.14558446e-01,\n",
              "        5.41755408e-02,  5.80757797e-01, -8.52002203e-01,  1.80394739e-01,\n",
              "        2.95402944e-01,  2.01491863e-01, -2.23820835e-01, -6.06077552e-01,\n",
              "       -1.51506257e+00, -3.13916087e-01,  1.44103289e+00, -8.30114260e-02,\n",
              "       -6.51311427e-02, -5.63256979e-01,  5.93117833e-01,  4.00528580e-01,\n",
              "       -4.79774445e-01,  3.26452821e-01,  6.54554844e-01, -2.41762549e-02,\n",
              "       -7.06741512e-01, -1.26773387e-01, -4.63437945e-01,  2.99270749e-01,\n",
              "       -4.17358756e-01,  9.37782347e-01,  7.44002759e-01,  1.11587778e-01,\n",
              "        4.11273807e-01, -3.97479653e-01,  4.86016005e-01,  3.82755548e-01,\n",
              "        9.99141276e-01,  5.26292682e-01, -3.36077273e-01, -2.93147683e-01,\n",
              "       -2.48749554e-03, -2.24464774e-01, -2.54991472e-01,  3.63014698e-01,\n",
              "        4.88728493e-01, -1.52067482e-01,  9.99291599e-01,  5.01842141e-01,\n",
              "       -1.24435171e-01, -3.98999155e-02, -5.84414482e-01, -1.80443481e-01,\n",
              "        5.16727865e-01,  4.45012748e-03, -4.76148665e-01,  6.31199852e-02,\n",
              "       -3.19342911e-01,  8.61035764e-01, -7.75336444e-01,  4.91517037e-01,\n",
              "        5.99033952e-01, -2.65006244e-01,  1.43550050e+00,  5.73683865e-02,\n",
              "       -2.76605308e-01, -3.56789142e-01,  7.13684320e-01,  4.26980376e-01,\n",
              "        1.24036044e-01,  1.31807983e-01, -1.60010889e-01,  2.10210934e-01,\n",
              "       -9.66507867e-02, -6.98747754e-01,  2.38871872e-01, -3.21448088e-01,\n",
              "        1.22053385e-01, -1.29199541e+00, -3.09706062e-01,  1.05144039e-01,\n",
              "        1.54229581e-01,  1.08984008e-01,  1.78218043e+00, -4.04120564e-01,\n",
              "        9.05470014e-01,  1.35951161e-01, -2.45227158e-01,  2.76926100e-01,\n",
              "        3.66225541e-02, -2.60430336e-01,  8.17504585e-01,  2.68283784e-01,\n",
              "        2.56043822e-01, -2.03173801e-01,  2.70449162e-01, -2.87775159e-01,\n",
              "        1.82417274e-01, -1.41297624e-01, -9.43502426e-01, -1.69715375e-01,\n",
              "       -8.84399295e-01, -7.34254539e-01,  8.89190376e-01, -6.16457999e-01,\n",
              "        1.06795108e+00, -1.16727304e+00,  6.82646155e-01,  4.08897221e-01,\n",
              "        8.13857675e-01,  7.70036340e-01,  3.64830285e-01, -5.75383753e-03,\n",
              "        7.73684621e-01, -9.92579609e-02, -3.17367136e-01, -7.71118760e-01,\n",
              "       -6.45820737e-01, -1.13555171e-01,  9.38840985e-01,  9.19918299e-01,\n",
              "       -1.74398601e-01, -2.68009454e-02, -2.80458868e-01, -8.61422300e-01,\n",
              "       -6.95920289e-02, -9.67139721e-01, -7.60809422e-01, -3.28832030e-01,\n",
              "        2.49633431e-01, -7.87613094e-01, -1.64566383e-01, -2.04774737e-02,\n",
              "       -4.38184917e-01, -5.01420081e-01,  4.59289253e-02,  3.02873343e-01,\n",
              "        4.03009742e-01, -2.14521599e+00,  1.41738743e-01,  9.02031660e-02,\n",
              "       -3.78953695e-01, -9.98830140e-01,  3.61341745e-01, -6.56354129e-01,\n",
              "       -1.10718441e+00,  1.85679197e-01, -3.64961922e-01,  2.99435675e-01,\n",
              "        4.45554078e-01, -2.22731739e-01, -8.22697580e-01, -7.84027696e-01,\n",
              "        2.29601339e-02,  2.05411911e-01, -1.66499496e-01, -1.03882670e+00,\n",
              "        1.07740588e-01, -1.40174180e-02,  6.82252765e-01, -5.78770101e-01,\n",
              "       -7.59218931e-01, -1.37318909e-01,  2.31761709e-01,  9.74676490e-01,\n",
              "       -5.03447711e-01,  1.82834834e-01, -5.12817264e-01,  3.32058758e-01,\n",
              "        2.41062179e-01, -1.05734324e+00, -5.93285799e-01,  6.96660519e-01,\n",
              "       -4.85102117e-01, -2.29176307e+00,  3.64788622e-01,  1.04841125e+00,\n",
              "        4.09641385e-01, -6.17686987e-01,  1.21254849e+00,  8.84131014e-01,\n",
              "       -1.68444276e-01,  2.09664434e-01, -7.31221259e-01,  1.47196740e-01,\n",
              "        7.36294866e-01, -1.28060579e-03,  1.41161606e-01, -3.82299185e-01,\n",
              "       -2.14502931e-01,  1.39188075e+00, -8.07104856e-02,  6.67765498e-01,\n",
              "        3.31121826e+00,  4.19665873e-01,  6.88844740e-01,  3.94369066e-01,\n",
              "        1.43220469e-01,  2.18060285e-01, -1.41468084e+00, -3.55839729e-01,\n",
              "       -5.45580029e-01, -2.08017230e-01, -1.01970732e-02, -4.83421117e-01,\n",
              "        1.27766013e-01,  3.53837788e-01, -4.37141836e-01, -2.86604404e-01,\n",
              "        1.48326802e+00,  1.78103983e-01,  6.80992424e-01,  6.55318856e-01,\n",
              "       -5.87863922e-01, -6.70046747e-01, -9.14904118e-01,  2.03634918e-01,\n",
              "       -8.90430659e-02, -5.41369915e-01,  2.30531961e-01, -3.72658789e-01,\n",
              "        9.21000898e-01,  2.56416172e-01,  2.16004372e-01, -3.35217029e-01],\n",
              "      dtype=float32)"
            ]
          },
          "metadata": {},
          "execution_count": 52
        }
      ]
    },
    {
      "cell_type": "code",
      "source": [
        ""
      ],
      "metadata": {
        "id": "GhoGGMn-WuDY"
      },
      "execution_count": null,
      "outputs": []
    }
  ]
}